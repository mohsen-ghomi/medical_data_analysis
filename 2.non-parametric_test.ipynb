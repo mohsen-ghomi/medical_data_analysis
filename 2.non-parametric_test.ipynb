{
 "cells": [
  {
   "cell_type": "code",
   "execution_count": 1,
   "metadata": {
    "collapsed": true
   },
   "outputs": [],
   "source": [
    "import numpy as np\n",
    "import pandas as pd"
   ]
  },
  {
   "cell_type": "code",
   "execution_count": 2,
   "metadata": {
    "collapsed": false
   },
   "outputs": [
    {
     "data": {
      "text/html": [
       "<div>\n",
       "<table border=\"1\" class=\"dataframe\">\n",
       "  <thead>\n",
       "    <tr style=\"text-align: right;\">\n",
       "      <th></th>\n",
       "      <th>id</th>\n",
       "      <th>grp1</th>\n",
       "      <th>grp2</th>\n",
       "      <th>cov1</th>\n",
       "      <th>cov2</th>\n",
       "      <th>cov3</th>\n",
       "      <th>cov4</th>\n",
       "      <th>f1</th>\n",
       "      <th>f2</th>\n",
       "      <th>f3</th>\n",
       "      <th>f4</th>\n",
       "      <th>out1</th>\n",
       "      <th>out2</th>\n",
       "      <th>out3</th>\n",
       "      <th>out4</th>\n",
       "      <th>out4t</th>\n",
       "    </tr>\n",
       "  </thead>\n",
       "  <tbody>\n",
       "    <tr>\n",
       "      <th>0</th>\n",
       "      <td>1</td>\n",
       "      <td>0</td>\n",
       "      <td>2</td>\n",
       "      <td>10.588393</td>\n",
       "      <td>5.765045</td>\n",
       "      <td>0</td>\n",
       "      <td>2</td>\n",
       "      <td>8.883864</td>\n",
       "      <td>0.791934</td>\n",
       "      <td>1</td>\n",
       "      <td>1</td>\n",
       "      <td>5.031413</td>\n",
       "      <td>0</td>\n",
       "      <td>1</td>\n",
       "      <td>1</td>\n",
       "      <td>201</td>\n",
       "    </tr>\n",
       "    <tr>\n",
       "      <th>1</th>\n",
       "      <td>2</td>\n",
       "      <td>1</td>\n",
       "      <td>0</td>\n",
       "      <td>10.095498</td>\n",
       "      <td>5.273806</td>\n",
       "      <td>0</td>\n",
       "      <td>1</td>\n",
       "      <td>8.497210</td>\n",
       "      <td>0.881411</td>\n",
       "      <td>1</td>\n",
       "      <td>0</td>\n",
       "      <td>5.737039</td>\n",
       "      <td>0</td>\n",
       "      <td>2</td>\n",
       "      <td>1</td>\n",
       "      <td>125</td>\n",
       "    </tr>\n",
       "    <tr>\n",
       "      <th>2</th>\n",
       "      <td>3</td>\n",
       "      <td>0</td>\n",
       "      <td>2</td>\n",
       "      <td>10.221286</td>\n",
       "      <td>5.135972</td>\n",
       "      <td>1</td>\n",
       "      <td>2</td>\n",
       "      <td>8.175174</td>\n",
       "      <td>0.177713</td>\n",
       "      <td>0</td>\n",
       "      <td>2</td>\n",
       "      <td>5.387061</td>\n",
       "      <td>1</td>\n",
       "      <td>2</td>\n",
       "      <td>0</td>\n",
       "      <td>152</td>\n",
       "    </tr>\n",
       "    <tr>\n",
       "      <th>3</th>\n",
       "      <td>4</td>\n",
       "      <td>1</td>\n",
       "      <td>3</td>\n",
       "      <td>10.884562</td>\n",
       "      <td>5.459708</td>\n",
       "      <td>0</td>\n",
       "      <td>0</td>\n",
       "      <td>8.421732</td>\n",
       "      <td>0.052869</td>\n",
       "      <td>1</td>\n",
       "      <td>3</td>\n",
       "      <td>5.031891</td>\n",
       "      <td>0</td>\n",
       "      <td>2</td>\n",
       "      <td>1</td>\n",
       "      <td>148</td>\n",
       "    </tr>\n",
       "    <tr>\n",
       "      <th>4</th>\n",
       "      <td>5</td>\n",
       "      <td>0</td>\n",
       "      <td>2</td>\n",
       "      <td>10.707055</td>\n",
       "      <td>5.306728</td>\n",
       "      <td>0</td>\n",
       "      <td>1</td>\n",
       "      <td>8.714487</td>\n",
       "      <td>0.128239</td>\n",
       "      <td>1</td>\n",
       "      <td>1</td>\n",
       "      <td>5.337904</td>\n",
       "      <td>1</td>\n",
       "      <td>1</td>\n",
       "      <td>0</td>\n",
       "      <td>127</td>\n",
       "    </tr>\n",
       "  </tbody>\n",
       "</table>\n",
       "</div>"
      ],
      "text/plain": [
       "   id  grp1  grp2       cov1      cov2  cov3  cov4        f1        f2  f3  \\\n",
       "0   1     0     2  10.588393  5.765045     0     2  8.883864  0.791934   1   \n",
       "1   2     1     0  10.095498  5.273806     0     1  8.497210  0.881411   1   \n",
       "2   3     0     2  10.221286  5.135972     1     2  8.175174  0.177713   0   \n",
       "3   4     1     3  10.884562  5.459708     0     0  8.421732  0.052869   1   \n",
       "4   5     0     2  10.707055  5.306728     0     1  8.714487  0.128239   1   \n",
       "\n",
       "   f4      out1  out2  out3  out4  out4t  \n",
       "0   1  5.031413     0     1     1    201  \n",
       "1   0  5.737039     0     2     1    125  \n",
       "2   2  5.387061     1     2     0    152  \n",
       "3   3  5.031891     0     2     1    148  \n",
       "4   1  5.337904     1     1     0    127  "
      ]
     },
     "execution_count": 2,
     "metadata": {},
     "output_type": "execute_result"
    }
   ],
   "source": [
    "#0.load data\n",
    "dt=pd.read_csv(\"D:\\Data\\python\\data0.csv\") \n",
    "\n",
    "#show the top 5 rows of data\n",
    "dt.head() "
   ]
  },
  {
   "cell_type": "code",
   "execution_count": 3,
   "metadata": {
    "collapsed": true
   },
   "outputs": [],
   "source": [
    "import statsmodels.api as sm\n",
    "from scipy import stats"
   ]
  },
  {
   "cell_type": "code",
   "execution_count": 4,
   "metadata": {
    "collapsed": false
   },
   "outputs": [
    {
     "data": {
      "text/plain": [
       "0    10.588393\n",
       "1    10.095498\n",
       "2    10.221286\n",
       "3    10.884562\n",
       "4    10.707055\n",
       "Name: cov1, dtype: float64"
      ]
     },
     "execution_count": 4,
     "metadata": {},
     "output_type": "execute_result"
    }
   ],
   "source": [
    "#1.Univariate and distribution test\n",
    "#1.1 Kolmogorov-Smirnov test\n",
    "dt[\"cov1\"].head()"
   ]
  },
  {
   "cell_type": "code",
   "execution_count": 6,
   "metadata": {
    "collapsed": false
   },
   "outputs": [
    {
     "data": {
      "text/plain": [
       "(0.10641683847655248, 9.4626579655287357e-06)"
      ]
     },
     "execution_count": 6,
     "metadata": {},
     "output_type": "execute_result"
    }
   ],
   "source": [
    "sm.stats.diagnostic.kstest_normal(dt[\"cov1\"]) #based on mean methods for normal distribution test"
   ]
  },
  {
   "cell_type": "code",
   "execution_count": 7,
   "metadata": {
    "collapsed": false
   },
   "outputs": [
    {
     "data": {
      "text/plain": [
       "(0.10641683847655248, 9.4626579655287357e-06)"
      ]
     },
     "execution_count": 7,
     "metadata": {},
     "output_type": "execute_result"
    }
   ],
   "source": [
    "sm.stats.diagnostic.lillifors(dt[\"cov1\"]) #based on variance motheds for normal distribution test"
   ]
  },
  {
   "cell_type": "code",
   "execution_count": 8,
   "metadata": {
    "collapsed": false
   },
   "outputs": [
    {
     "data": {
      "text/plain": [
       "KstestResult(statistic=0.10641683847655437, pvalue=0.019955892552601107)"
      ]
     },
     "execution_count": 8,
     "metadata": {},
     "output_type": "execute_result"
    }
   ],
   "source": [
    "args_para=(dt[\"cov1\"].mean(),dt[\"cov1\"].std())\n",
    "stats.kstest(dt[\"cov1\"],\"norm\",args=args_para)"
   ]
  },
  {
   "cell_type": "code",
   "execution_count": 16,
   "metadata": {
    "collapsed": false
   },
   "outputs": [
    {
     "data": {
      "text/plain": [
       "(0.9418884515762329, 3.3583017966520856e-07)"
      ]
     },
     "execution_count": 16,
     "metadata": {},
     "output_type": "execute_result"
    }
   ],
   "source": [
    "stats.shapiro(dt[\"cov1\"])"
   ]
  },
  {
   "cell_type": "code",
   "execution_count": 17,
   "metadata": {
    "collapsed": false
   },
   "outputs": [
    {
     "data": {
      "text/plain": [
       "AndersonResult(statistic=3.3080808712745409, critical_values=array([ 0.565,  0.644,  0.772,  0.901,  1.071]), significance_level=array([ 15. ,  10. ,   5. ,   2.5,   1. ]))"
      ]
     },
     "execution_count": 17,
     "metadata": {},
     "output_type": "execute_result"
    }
   ],
   "source": [
    "stats.anderson(dt[\"cov1\"],dist=\"norm\")"
   ]
  },
  {
   "cell_type": "code",
   "execution_count": 11,
   "metadata": {
    "collapsed": false
   },
   "outputs": [
    {
     "data": {
      "text/plain": [
       "0    2\n",
       "1    1\n",
       "2    2\n",
       "3    0\n",
       "4    1\n",
       "Name: cov4, dtype: int64"
      ]
     },
     "execution_count": 11,
     "metadata": {},
     "output_type": "execute_result"
    }
   ],
   "source": [
    "#1.2 run test for random sampling\n",
    "dt[\"cov4\"].head()"
   ]
  },
  {
   "cell_type": "code",
   "execution_count": 14,
   "metadata": {
    "collapsed": false
   },
   "outputs": [
    {
     "data": {
      "text/plain": [
       "(0.7148486603201688, 0.47470256344583328)"
      ]
     },
     "execution_count": 14,
     "metadata": {},
     "output_type": "execute_result"
    }
   ],
   "source": [
    "sm.stats.runstest_1samp(dt[\"cov1\"],cutoff=\"mean\") "
   ]
  },
  {
   "cell_type": "code",
   "execution_count": 15,
   "metadata": {
    "collapsed": false
   },
   "outputs": [
    {
     "data": {
      "text/plain": [
       "(-1.1475973991437549, 0.25113480397136412)"
      ]
     },
     "execution_count": 15,
     "metadata": {},
     "output_type": "execute_result"
    }
   ],
   "source": [
    "sm.stats.runstest_1samp(dt[\"cov4\"],cutoff=\"median\")"
   ]
  },
  {
   "cell_type": "code",
   "execution_count": 18,
   "metadata": {
    "collapsed": false
   },
   "outputs": [
    {
     "data": {
      "text/plain": [
       "0    8.883864\n",
       "1    8.497210\n",
       "2    8.175174\n",
       "3    8.421732\n",
       "4    8.714487\n",
       "Name: f1, dtype: float64"
      ]
     },
     "execution_count": 18,
     "metadata": {},
     "output_type": "execute_result"
    }
   ],
   "source": [
    "# 2.Bivariate non-parametic test\n",
    "dt[\"f1\"].head()"
   ]
  },
  {
   "cell_type": "code",
   "execution_count": 28,
   "metadata": {
    "collapsed": false
   },
   "outputs": [
    {
     "data": {
      "text/plain": [
       "RanksumsResult(statistic=0.19204623565793191, pvalue=0.84770598860959712)"
      ]
     },
     "execution_count": 28,
     "metadata": {},
     "output_type": "execute_result"
    }
   ],
   "source": [
    "#2.1 median comparison for two samples\n",
    "stats.ranksums(dt[dt[\"grp1\"]==0][\"f1\"],dt[dt[\"grp1\"]==1][\"f1\"]) #Wilcoxon test"
   ]
  },
  {
   "cell_type": "code",
   "execution_count": 29,
   "metadata": {
    "collapsed": false
   },
   "outputs": [
    {
     "data": {
      "text/plain": [
       "MannwhitneyuResult(statistic=5066.0, pvalue=0.84866425959827896)"
      ]
     },
     "execution_count": 29,
     "metadata": {},
     "output_type": "execute_result"
    }
   ],
   "source": [
    "stats.mannwhitneyu(dt[dt[\"grp1\"]==0][\"f1\"],dt[dt[\"grp1\"]==1][\"f1\"],alternative=\"two-sided\") #Mann-Whitney test"
   ]
  },
  {
   "cell_type": "code",
   "execution_count": 21,
   "metadata": {
    "collapsed": true
   },
   "outputs": [],
   "source": [
    "#2.2 distribution comparison for two samples"
   ]
  },
  {
   "cell_type": "code",
   "execution_count": 30,
   "metadata": {
    "collapsed": false
   },
   "outputs": [
    {
     "data": {
      "text/plain": [
       "Ks_2sampResult(statistic=0.092731829573934832, pvalue=0.76448544122806317)"
      ]
     },
     "execution_count": 30,
     "metadata": {},
     "output_type": "execute_result"
    }
   ],
   "source": [
    "stats.ks_2samp(dt[dt['grp1']==0]['f1'],dt[dt['grp1']==1]['f1']) "
   ]
  },
  {
   "cell_type": "code",
   "execution_count": 31,
   "metadata": {
    "collapsed": false
   },
   "outputs": [
    {
     "data": {
      "text/plain": [
       "(-0.67514202734134388, 0.49958553441770248)"
      ]
     },
     "execution_count": 31,
     "metadata": {},
     "output_type": "execute_result"
    }
   ],
   "source": [
    "sm.stats.runstest_2samp(dt[dt['grp1']==0]['f1'],dt[dt['grp1']==1]['f1'])"
   ]
  },
  {
   "cell_type": "code",
   "execution_count": 32,
   "metadata": {
    "collapsed": false
   },
   "outputs": [
    {
     "data": {
      "text/plain": [
       "(-0.7035018561881009, 0.48174305039947696)"
      ]
     },
     "execution_count": 32,
     "metadata": {},
     "output_type": "execute_result"
    }
   ],
   "source": [
    "sm.stats.runstest_2samp(dt['f1'],groups=dt['grp1'])"
   ]
  },
  {
   "cell_type": "code",
   "execution_count": 33,
   "metadata": {
    "collapsed": true
   },
   "outputs": [],
   "source": [
    "# 3. Multiple variables non-parametic test "
   ]
  },
  {
   "cell_type": "code",
   "execution_count": 37,
   "metadata": {
    "collapsed": false
   },
   "outputs": [
    {
     "data": {
      "text/plain": [
       "4"
      ]
     },
     "execution_count": 37,
     "metadata": {},
     "output_type": "execute_result"
    }
   ],
   "source": [
    "grp2_set=dt[\"grp2\"].unique()\n",
    "len(grp2_set)"
   ]
  },
  {
   "cell_type": "code",
   "execution_count": 38,
   "metadata": {
    "collapsed": false
   },
   "outputs": [
    {
     "data": {
      "text/plain": [
       "Anderson_ksampResult(statistic=2.1766195056546538, critical_values=array([ 0.49854918,  1.3236709 ,  1.91577682,  2.49304213,  3.24593219]), significance_level=0.036743250016642644)"
      ]
     },
     "execution_count": 38,
     "metadata": {},
     "output_type": "execute_result"
    }
   ],
   "source": [
    "samp=[]\n",
    "for i in list(grp2_set):\n",
    "    samp.append(dt[dt[\"grp2\"]==i][\"f1\"])\n",
    "stats.anderson_ksamp(samp)"
   ]
  },
  {
   "cell_type": "code",
   "execution_count": 39,
   "metadata": {
    "collapsed": false
   },
   "outputs": [
    {
     "data": {
      "text/plain": [
       "KruskalResult(statistic=3.998484887696236, pvalue=0.26162778118868951)"
      ]
     },
     "execution_count": 39,
     "metadata": {},
     "output_type": "execute_result"
    }
   ],
   "source": [
    "stats.kruskal(*samp)"
   ]
  },
  {
   "cell_type": "code",
   "execution_count": 41,
   "metadata": {
    "collapsed": false,
    "scrolled": true
   },
   "outputs": [
    {
     "data": {
      "text/plain": [
       "(3.665015493703343,\n",
       " 0.29998231473634357,\n",
       " 8.4708437884999999,\n",
       " array([[28, 29, 18, 25],\n",
       "        [18, 30, 26, 26]], dtype=int64))"
      ]
     },
     "execution_count": 41,
     "metadata": {},
     "output_type": "execute_result"
    }
   ],
   "source": [
    "stats.median_test(*samp)"
   ]
  }
 ],
 "metadata": {
  "kernelspec": {
   "display_name": "Python 3",
   "language": "python",
   "name": "python3"
  },
  "language_info": {
   "codemirror_mode": {
    "name": "ipython",
    "version": 3
   },
   "file_extension": ".py",
   "mimetype": "text/x-python",
   "name": "python",
   "nbconvert_exporter": "python",
   "pygments_lexer": "ipython3",
   "version": "3.6.0"
  }
 },
 "nbformat": 4,
 "nbformat_minor": 2
}
