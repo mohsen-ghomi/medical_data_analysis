{
 "cells": [
  {
   "cell_type": "code",
   "execution_count": 173,
   "metadata": {
    "collapsed": false
   },
   "outputs": [],
   "source": [
    "import numpy as np\n",
    "import pandas as pd\n",
    "import matplotlib.pyplot as plt"
   ]
  },
  {
   "cell_type": "code",
   "execution_count": 174,
   "metadata": {
    "collapsed": false,
    "scrolled": true
   },
   "outputs": [
    {
     "data": {
      "text/html": [
       "<div>\n",
       "<table border=\"1\" class=\"dataframe\">\n",
       "  <thead>\n",
       "    <tr style=\"text-align: right;\">\n",
       "      <th></th>\n",
       "      <th>id</th>\n",
       "      <th>grp1</th>\n",
       "      <th>grp2</th>\n",
       "      <th>cov1</th>\n",
       "      <th>cov2</th>\n",
       "      <th>cov3</th>\n",
       "      <th>cov4</th>\n",
       "      <th>f1</th>\n",
       "      <th>f2</th>\n",
       "      <th>f3</th>\n",
       "      <th>f4</th>\n",
       "      <th>out1</th>\n",
       "      <th>out2</th>\n",
       "      <th>out3</th>\n",
       "      <th>out4</th>\n",
       "      <th>out4t</th>\n",
       "    </tr>\n",
       "  </thead>\n",
       "  <tbody>\n",
       "    <tr>\n",
       "      <th>0</th>\n",
       "      <td>1</td>\n",
       "      <td>0</td>\n",
       "      <td>2</td>\n",
       "      <td>10.588393</td>\n",
       "      <td>5.765045</td>\n",
       "      <td>0</td>\n",
       "      <td>2</td>\n",
       "      <td>8.883864</td>\n",
       "      <td>0.791934</td>\n",
       "      <td>1</td>\n",
       "      <td>1</td>\n",
       "      <td>5.031413</td>\n",
       "      <td>0</td>\n",
       "      <td>1</td>\n",
       "      <td>1</td>\n",
       "      <td>201</td>\n",
       "    </tr>\n",
       "    <tr>\n",
       "      <th>1</th>\n",
       "      <td>2</td>\n",
       "      <td>1</td>\n",
       "      <td>0</td>\n",
       "      <td>10.095498</td>\n",
       "      <td>5.273806</td>\n",
       "      <td>0</td>\n",
       "      <td>1</td>\n",
       "      <td>8.497210</td>\n",
       "      <td>0.881411</td>\n",
       "      <td>1</td>\n",
       "      <td>0</td>\n",
       "      <td>5.737039</td>\n",
       "      <td>0</td>\n",
       "      <td>2</td>\n",
       "      <td>1</td>\n",
       "      <td>125</td>\n",
       "    </tr>\n",
       "    <tr>\n",
       "      <th>2</th>\n",
       "      <td>3</td>\n",
       "      <td>0</td>\n",
       "      <td>2</td>\n",
       "      <td>10.221286</td>\n",
       "      <td>5.135972</td>\n",
       "      <td>1</td>\n",
       "      <td>2</td>\n",
       "      <td>8.175174</td>\n",
       "      <td>0.177713</td>\n",
       "      <td>0</td>\n",
       "      <td>2</td>\n",
       "      <td>5.387061</td>\n",
       "      <td>1</td>\n",
       "      <td>2</td>\n",
       "      <td>0</td>\n",
       "      <td>152</td>\n",
       "    </tr>\n",
       "    <tr>\n",
       "      <th>3</th>\n",
       "      <td>4</td>\n",
       "      <td>1</td>\n",
       "      <td>3</td>\n",
       "      <td>10.884562</td>\n",
       "      <td>5.459708</td>\n",
       "      <td>0</td>\n",
       "      <td>0</td>\n",
       "      <td>8.421732</td>\n",
       "      <td>0.052869</td>\n",
       "      <td>1</td>\n",
       "      <td>3</td>\n",
       "      <td>5.031891</td>\n",
       "      <td>0</td>\n",
       "      <td>2</td>\n",
       "      <td>1</td>\n",
       "      <td>148</td>\n",
       "    </tr>\n",
       "    <tr>\n",
       "      <th>4</th>\n",
       "      <td>5</td>\n",
       "      <td>0</td>\n",
       "      <td>2</td>\n",
       "      <td>10.707055</td>\n",
       "      <td>5.306728</td>\n",
       "      <td>0</td>\n",
       "      <td>1</td>\n",
       "      <td>8.714487</td>\n",
       "      <td>0.128239</td>\n",
       "      <td>1</td>\n",
       "      <td>1</td>\n",
       "      <td>5.337904</td>\n",
       "      <td>1</td>\n",
       "      <td>1</td>\n",
       "      <td>0</td>\n",
       "      <td>127</td>\n",
       "    </tr>\n",
       "  </tbody>\n",
       "</table>\n",
       "</div>"
      ],
      "text/plain": [
       "   id  grp1  grp2       cov1      cov2  cov3  cov4        f1        f2  f3  \\\n",
       "0   1     0     2  10.588393  5.765045     0     2  8.883864  0.791934   1   \n",
       "1   2     1     0  10.095498  5.273806     0     1  8.497210  0.881411   1   \n",
       "2   3     0     2  10.221286  5.135972     1     2  8.175174  0.177713   0   \n",
       "3   4     1     3  10.884562  5.459708     0     0  8.421732  0.052869   1   \n",
       "4   5     0     2  10.707055  5.306728     0     1  8.714487  0.128239   1   \n",
       "\n",
       "   f4      out1  out2  out3  out4  out4t  \n",
       "0   1  5.031413     0     1     1    201  \n",
       "1   0  5.737039     0     2     1    125  \n",
       "2   2  5.387061     1     2     0    152  \n",
       "3   3  5.031891     0     2     1    148  \n",
       "4   1  5.337904     1     1     0    127  "
      ]
     },
     "execution_count": 174,
     "metadata": {},
     "output_type": "execute_result"
    }
   ],
   "source": [
    "#0.load data\n",
    "dt=pd.read_csv(\"D:\\Data\\python\\data0.csv\") \n",
    "\n",
    "#show the top 5 rows of data\n",
    "dt.head()"
   ]
  },
  {
   "cell_type": "code",
   "execution_count": 175,
   "metadata": {
    "collapsed": false
   },
   "outputs": [
    {
     "data": {
      "text/html": [
       "<div>\n",
       "<table border=\"1\" class=\"dataframe\">\n",
       "  <thead>\n",
       "    <tr style=\"text-align: right;\">\n",
       "      <th></th>\n",
       "      <th>grp2</th>\n",
       "      <th>cov1</th>\n",
       "      <th>cov2</th>\n",
       "      <th>f1</th>\n",
       "      <th>f2</th>\n",
       "      <th>out3</th>\n",
       "    </tr>\n",
       "  </thead>\n",
       "  <tbody>\n",
       "    <tr>\n",
       "      <th>0</th>\n",
       "      <td>2</td>\n",
       "      <td>10.588393</td>\n",
       "      <td>5.765045</td>\n",
       "      <td>8.883864</td>\n",
       "      <td>0.791934</td>\n",
       "      <td>1</td>\n",
       "    </tr>\n",
       "    <tr>\n",
       "      <th>1</th>\n",
       "      <td>0</td>\n",
       "      <td>10.095498</td>\n",
       "      <td>5.273806</td>\n",
       "      <td>8.497210</td>\n",
       "      <td>0.881411</td>\n",
       "      <td>2</td>\n",
       "    </tr>\n",
       "    <tr>\n",
       "      <th>2</th>\n",
       "      <td>2</td>\n",
       "      <td>10.221286</td>\n",
       "      <td>5.135972</td>\n",
       "      <td>8.175174</td>\n",
       "      <td>0.177713</td>\n",
       "      <td>2</td>\n",
       "    </tr>\n",
       "    <tr>\n",
       "      <th>3</th>\n",
       "      <td>3</td>\n",
       "      <td>10.884562</td>\n",
       "      <td>5.459708</td>\n",
       "      <td>8.421732</td>\n",
       "      <td>0.052869</td>\n",
       "      <td>2</td>\n",
       "    </tr>\n",
       "    <tr>\n",
       "      <th>4</th>\n",
       "      <td>2</td>\n",
       "      <td>10.707055</td>\n",
       "      <td>5.306728</td>\n",
       "      <td>8.714487</td>\n",
       "      <td>0.128239</td>\n",
       "      <td>1</td>\n",
       "    </tr>\n",
       "  </tbody>\n",
       "</table>\n",
       "</div>"
      ],
      "text/plain": [
       "   grp2       cov1      cov2        f1        f2  out3\n",
       "0     2  10.588393  5.765045  8.883864  0.791934     1\n",
       "1     0  10.095498  5.273806  8.497210  0.881411     2\n",
       "2     2  10.221286  5.135972  8.175174  0.177713     2\n",
       "3     3  10.884562  5.459708  8.421732  0.052869     2\n",
       "4     2  10.707055  5.306728  8.714487  0.128239     1"
      ]
     },
     "execution_count": 175,
     "metadata": {},
     "output_type": "execute_result"
    }
   ],
   "source": [
    "#1. classification \n",
    "# linear discriminant analysis, Bayes discriminant analysis, k-nearest neighbor, decision tree, random forest, support vector machine\n",
    "dt_used=dt[[\"grp2\",\"cov1\",\"cov2\",\"f1\",\"f2\",\"out3\"]]\n",
    "dt_used.head()"
   ]
  },
  {
   "cell_type": "code",
   "execution_count": 200,
   "metadata": {
    "collapsed": false
   },
   "outputs": [
    {
     "data": {
      "text/html": [
       "<div>\n",
       "<table border=\"1\" class=\"dataframe\">\n",
       "  <thead>\n",
       "    <tr style=\"text-align: right;\">\n",
       "      <th></th>\n",
       "      <th>cov1</th>\n",
       "      <th>cov2</th>\n",
       "      <th>f1</th>\n",
       "      <th>f2</th>\n",
       "      <th>out3</th>\n",
       "    </tr>\n",
       "  </thead>\n",
       "  <tbody>\n",
       "    <tr>\n",
       "      <th>171</th>\n",
       "      <td>10.822257</td>\n",
       "      <td>5.855306</td>\n",
       "      <td>8.279727</td>\n",
       "      <td>0.937507</td>\n",
       "      <td>3</td>\n",
       "    </tr>\n",
       "    <tr>\n",
       "      <th>112</th>\n",
       "      <td>10.134087</td>\n",
       "      <td>5.096231</td>\n",
       "      <td>8.740490</td>\n",
       "      <td>0.257318</td>\n",
       "      <td>3</td>\n",
       "    </tr>\n",
       "    <tr>\n",
       "      <th>125</th>\n",
       "      <td>10.321824</td>\n",
       "      <td>5.817894</td>\n",
       "      <td>8.326908</td>\n",
       "      <td>0.218260</td>\n",
       "      <td>3</td>\n",
       "    </tr>\n",
       "    <tr>\n",
       "      <th>40</th>\n",
       "      <td>10.998129</td>\n",
       "      <td>5.505672</td>\n",
       "      <td>8.024901</td>\n",
       "      <td>0.975610</td>\n",
       "      <td>1</td>\n",
       "    </tr>\n",
       "    <tr>\n",
       "      <th>160</th>\n",
       "      <td>10.773399</td>\n",
       "      <td>5.051859</td>\n",
       "      <td>8.842208</td>\n",
       "      <td>0.305688</td>\n",
       "      <td>2</td>\n",
       "    </tr>\n",
       "  </tbody>\n",
       "</table>\n",
       "</div>"
      ],
      "text/plain": [
       "          cov1      cov2        f1        f2  out3\n",
       "171  10.822257  5.855306  8.279727  0.937507     3\n",
       "112  10.134087  5.096231  8.740490  0.257318     3\n",
       "125  10.321824  5.817894  8.326908  0.218260     3\n",
       "40   10.998129  5.505672  8.024901  0.975610     1\n",
       "160  10.773399  5.051859  8.842208  0.305688     2"
      ]
     },
     "execution_count": 200,
     "metadata": {},
     "output_type": "execute_result"
    }
   ],
   "source": [
    "from sklearn.cross_validation import train_test_split as tts\n",
    "from sklearn.cross_validation import cross_val_score as cvs\n",
    "x=dt_used.iloc[:,1:]\n",
    "y=dt_used.iloc[:,0:1]\n",
    "x_train,x_test,y_train,y_test=tts(x,y,test_size=0.25)\n",
    "x_train.head()"
   ]
  },
  {
   "cell_type": "code",
   "execution_count": 204,
   "metadata": {
    "collapsed": false
   },
   "outputs": [
    {
     "data": {
      "text/html": [
       "<div>\n",
       "<table border=\"1\" class=\"dataframe\">\n",
       "  <thead>\n",
       "    <tr style=\"text-align: right;\">\n",
       "      <th></th>\n",
       "      <th>grp2</th>\n",
       "    </tr>\n",
       "  </thead>\n",
       "  <tbody>\n",
       "    <tr>\n",
       "      <th>171</th>\n",
       "      <td>3</td>\n",
       "    </tr>\n",
       "    <tr>\n",
       "      <th>112</th>\n",
       "      <td>0</td>\n",
       "    </tr>\n",
       "    <tr>\n",
       "      <th>125</th>\n",
       "      <td>1</td>\n",
       "    </tr>\n",
       "    <tr>\n",
       "      <th>40</th>\n",
       "      <td>2</td>\n",
       "    </tr>\n",
       "    <tr>\n",
       "      <th>160</th>\n",
       "      <td>3</td>\n",
       "    </tr>\n",
       "  </tbody>\n",
       "</table>\n",
       "</div>"
      ],
      "text/plain": [
       "     grp2\n",
       "171     3\n",
       "112     0\n",
       "125     1\n",
       "40      2\n",
       "160     3"
      ]
     },
     "execution_count": 204,
     "metadata": {},
     "output_type": "execute_result"
    }
   ],
   "source": [
    "y_train.head()"
   ]
  },
  {
   "cell_type": "code",
   "execution_count": 201,
   "metadata": {
    "collapsed": false,
    "scrolled": true
   },
   "outputs": [
    {
     "data": {
      "text/html": [
       "<div>\n",
       "<table border=\"1\" class=\"dataframe\">\n",
       "  <thead>\n",
       "    <tr style=\"text-align: right;\">\n",
       "      <th></th>\n",
       "      <th>cov1</th>\n",
       "      <th>cov2</th>\n",
       "      <th>f1</th>\n",
       "      <th>f2</th>\n",
       "      <th>out3</th>\n",
       "    </tr>\n",
       "  </thead>\n",
       "  <tbody>\n",
       "    <tr>\n",
       "      <th>136</th>\n",
       "      <td>10.342818</td>\n",
       "      <td>5.787513</td>\n",
       "      <td>8.317879</td>\n",
       "      <td>0.710011</td>\n",
       "      <td>0</td>\n",
       "    </tr>\n",
       "    <tr>\n",
       "      <th>170</th>\n",
       "      <td>10.062724</td>\n",
       "      <td>5.973029</td>\n",
       "      <td>8.367860</td>\n",
       "      <td>0.195345</td>\n",
       "      <td>0</td>\n",
       "    </tr>\n",
       "    <tr>\n",
       "      <th>173</th>\n",
       "      <td>10.433966</td>\n",
       "      <td>5.272041</td>\n",
       "      <td>8.298163</td>\n",
       "      <td>0.110731</td>\n",
       "      <td>3</td>\n",
       "    </tr>\n",
       "    <tr>\n",
       "      <th>155</th>\n",
       "      <td>10.029907</td>\n",
       "      <td>5.558818</td>\n",
       "      <td>8.720394</td>\n",
       "      <td>0.095509</td>\n",
       "      <td>0</td>\n",
       "    </tr>\n",
       "    <tr>\n",
       "      <th>46</th>\n",
       "      <td>10.506779</td>\n",
       "      <td>5.616125</td>\n",
       "      <td>8.345628</td>\n",
       "      <td>0.376033</td>\n",
       "      <td>3</td>\n",
       "    </tr>\n",
       "  </tbody>\n",
       "</table>\n",
       "</div>"
      ],
      "text/plain": [
       "          cov1      cov2        f1        f2  out3\n",
       "136  10.342818  5.787513  8.317879  0.710011     0\n",
       "170  10.062724  5.973029  8.367860  0.195345     0\n",
       "173  10.433966  5.272041  8.298163  0.110731     3\n",
       "155  10.029907  5.558818  8.720394  0.095509     0\n",
       "46   10.506779  5.616125  8.345628  0.376033     3"
      ]
     },
     "execution_count": 201,
     "metadata": {},
     "output_type": "execute_result"
    }
   ],
   "source": [
    "x_test.head()"
   ]
  },
  {
   "cell_type": "code",
   "execution_count": 203,
   "metadata": {
    "collapsed": false,
    "scrolled": true
   },
   "outputs": [
    {
     "data": {
      "text/html": [
       "<div>\n",
       "<table border=\"1\" class=\"dataframe\">\n",
       "  <thead>\n",
       "    <tr style=\"text-align: right;\">\n",
       "      <th></th>\n",
       "      <th>grp2</th>\n",
       "    </tr>\n",
       "  </thead>\n",
       "  <tbody>\n",
       "    <tr>\n",
       "      <th>136</th>\n",
       "      <td>0</td>\n",
       "    </tr>\n",
       "    <tr>\n",
       "      <th>170</th>\n",
       "      <td>3</td>\n",
       "    </tr>\n",
       "    <tr>\n",
       "      <th>173</th>\n",
       "      <td>0</td>\n",
       "    </tr>\n",
       "    <tr>\n",
       "      <th>155</th>\n",
       "      <td>3</td>\n",
       "    </tr>\n",
       "    <tr>\n",
       "      <th>46</th>\n",
       "      <td>3</td>\n",
       "    </tr>\n",
       "  </tbody>\n",
       "</table>\n",
       "</div>"
      ],
      "text/plain": [
       "     grp2\n",
       "136     0\n",
       "170     3\n",
       "173     0\n",
       "155     3\n",
       "46      3"
      ]
     },
     "execution_count": 203,
     "metadata": {},
     "output_type": "execute_result"
    }
   ],
   "source": [
    "y_test.head()"
   ]
  },
  {
   "cell_type": "code",
   "execution_count": 177,
   "metadata": {
    "collapsed": true
   },
   "outputs": [],
   "source": [
    "#1.1 linear discrimimant analysis"
   ]
  },
  {
   "cell_type": "code",
   "execution_count": 178,
   "metadata": {
    "collapsed": false
   },
   "outputs": [],
   "source": [
    "from sklearn.discriminant_analysis import LinearDiscriminantAnalysis as LDA\n",
    "dt_lda=LDA()\n",
    "dt_lda.fit(x_train,y_train.values.ravel())\n",
    "dt_lda_train_pred=dt_lda.predict(x_train)\n",
    "dt_lda_test_pred=dt_lda.predict(x_test)"
   ]
  },
  {
   "cell_type": "code",
   "execution_count": 179,
   "metadata": {
    "collapsed": false
   },
   "outputs": [
    {
     "data": {
      "image/png": "[encoded data removed]",
      "text/plain": [
       "<matplotlib.figure.Figure at 0xcc27d68>"
      ]
     },
     "metadata": {},
     "output_type": "display_data"
    }
   ],
   "source": [
    "plt.scatter(range(len(y_test)),y_test,marker=\".\",label=\"y_test\",color=\"g\")\n",
    "plt.scatter(range(len(dt_lda_test_pred)),dt_lda_test_pred,marker=\"^\",label=\"y_test_pred\",color=\"r\")\n",
    "plt.legend()\n",
    "plt.show()"
   ]
  },
  {
   "cell_type": "code",
   "execution_count": 180,
   "metadata": {
    "collapsed": false
   },
   "outputs": [
    {
     "name": "stdout",
     "output_type": "stream",
     "text": [
      "             precision    recall  f1-score   support\n",
      "\n",
      "          0       0.34      0.50      0.40        44\n",
      "          1       0.38      0.46      0.41        39\n",
      "          2       0.33      0.11      0.17        35\n",
      "          3       0.40      0.31      0.35        32\n",
      "\n",
      "avg / total       0.36      0.36      0.34       150\n",
      "\n",
      "             precision    recall  f1-score   support\n",
      "\n",
      "          0       0.30      0.40      0.34        15\n",
      "          1       0.36      0.42      0.38        12\n",
      "          2       0.25      0.18      0.21        11\n",
      "          3       0.38      0.25      0.30        12\n",
      "\n",
      "avg / total       0.32      0.32      0.31        50\n",
      "\n"
     ]
    }
   ],
   "source": [
    "from sklearn.metrics import classification_report as cls_res\n",
    "print(cls_res(y_train.values.ravel(),dt_lda_train_pred))\n",
    "print(cls_res(y_test.values.ravel(),dt_lda_test_pred))"
   ]
  },
  {
   "cell_type": "code",
   "execution_count": 181,
   "metadata": {
    "collapsed": true
   },
   "outputs": [],
   "source": [
    "#1.2 Bayes discriminant analysis\n",
    "from sklearn.naive_bayes import GaussianNB as gnb\n",
    "dt_bayes=gnb().fit(x_train,y_train.values.ravel())\n",
    "dt_bayes_train_pred=dt_bayes.predict(x_train)\n",
    "dt_bayes_test_pred=dt_bayes.predict(x_test)"
   ]
  },
  {
   "cell_type": "code",
   "execution_count": 182,
   "metadata": {
    "collapsed": false
   },
   "outputs": [
    {
     "data": {
      "image/png": "[encoded data removed]",
      "text/plain": [
       "<matplotlib.figure.Figure at 0xcaeae48>"
      ]
     },
     "metadata": {},
     "output_type": "display_data"
    }
   ],
   "source": [
    "plt.scatter(range(len(y_test)),y_test,marker=\"*\",label=\"y_test\")\n",
    "plt.scatter(range(len(dt_bayes_test_pred)),dt_bayes_test_pred,marker=\"o\",label=\"x_test_pred\")\n",
    "plt.legend()\n",
    "plt.show()"
   ]
  },
  {
   "cell_type": "code",
   "execution_count": 183,
   "metadata": {
    "collapsed": false
   },
   "outputs": [
    {
     "name": "stdout",
     "output_type": "stream",
     "text": [
      "             precision    recall  f1-score   support\n",
      "\n",
      "          0       0.41      0.50      0.45        44\n",
      "          1       0.43      0.56      0.49        39\n",
      "          2       0.50      0.29      0.36        35\n",
      "          3       0.56      0.44      0.49        32\n",
      "\n",
      "avg / total       0.47      0.45      0.45       150\n",
      "\n",
      "             precision    recall  f1-score   support\n",
      "\n",
      "          0       0.45      0.60      0.51        15\n",
      "          1       0.28      0.42      0.33        12\n",
      "          2       0.50      0.36      0.42        11\n",
      "          3       0.50      0.17      0.25        12\n",
      "\n",
      "avg / total       0.43      0.40      0.39        50\n",
      "\n"
     ]
    }
   ],
   "source": [
    "print(cls_res(y_train.values.ravel(),dt_bayes_train_pred))\n",
    "print(cls_res(y_test.values.ravel(),dt_bayes_test_pred))"
   ]
  },
  {
   "cell_type": "code",
   "execution_count": 184,
   "metadata": {
    "collapsed": false
   },
   "outputs": [],
   "source": [
    "#1.3 k-nearest neighbor\n",
    "from sklearn.neighbors import KNeighborsClassifier as kns"
   ]
  },
  {
   "cell_type": "code",
   "execution_count": 185,
   "metadata": {
    "collapsed": false
   },
   "outputs": [],
   "source": [
    "dt_knn=kns(algorithm=\"kd_tree\")\n",
    "dt_knn.fit(x_train,y_train.values.ravel())\n",
    "dt_knn_train_pred=dt_knn.predict(x_train)\n",
    "dt_knn_test_pred=dt_knn.predict(x_test)"
   ]
  },
  {
   "cell_type": "code",
   "execution_count": 186,
   "metadata": {
    "collapsed": false
   },
   "outputs": [
    {
     "data": {
      "image/png": "[encoded data removed]",
      "text/plain": [
       "<matplotlib.figure.Figure at 0xcbe8710>"
      ]
     },
     "metadata": {},
     "output_type": "display_data"
    }
   ],
   "source": [
    "plt.scatter(range(len(y_test)),y_test,marker=\".\",label=\"y_test\")\n",
    "plt.scatter(range(len(dt_knn_test_pred)),dt_knn_test_pred,marker=\"^\",label=\"x_test_pred\")\n",
    "plt.legend()\n",
    "plt.show()"
   ]
  },
  {
   "cell_type": "code",
   "execution_count": 187,
   "metadata": {
    "collapsed": false
   },
   "outputs": [
    {
     "name": "stdout",
     "output_type": "stream",
     "text": [
      "             precision    recall  f1-score   support\n",
      "\n",
      "          0       0.48      0.66      0.55        44\n",
      "          1       0.58      0.72      0.64        39\n",
      "          2       0.61      0.40      0.48        35\n",
      "          3       0.50      0.28      0.36        32\n",
      "\n",
      "avg / total       0.54      0.53      0.52       150\n",
      "\n",
      "             precision    recall  f1-score   support\n",
      "\n",
      "          0       0.26      0.33      0.29        15\n",
      "          1       0.21      0.25      0.23        12\n",
      "          2       0.27      0.27      0.27        11\n",
      "          3       0.50      0.25      0.33        12\n",
      "\n",
      "avg / total       0.31      0.28      0.28        50\n",
      "\n"
     ]
    }
   ],
   "source": [
    "print(cls_res(y_train,dt_knn_train_pred))\n",
    "print(cls_res(y_test,dt_knn_test_pred))"
   ]
  },
  {
   "cell_type": "code",
   "execution_count": 188,
   "metadata": {
    "collapsed": true
   },
   "outputs": [],
   "source": [
    "#1.4 decision tree"
   ]
  },
  {
   "cell_type": "code",
   "execution_count": 189,
   "metadata": {
    "collapsed": false
   },
   "outputs": [],
   "source": [
    "from sklearn.tree import DecisionTreeClassifier as dtc\n",
    "dt_tree=dtc()\n",
    "dt_tree.fit(x_train,y_train.values.ravel())\n",
    "dt_tree_train_pred=dt_tree.predict(x_train)\n",
    "dt_tree_test_pred=dt_tree.predict(x_test)"
   ]
  },
  {
   "cell_type": "code",
   "execution_count": 190,
   "metadata": {
    "collapsed": false
   },
   "outputs": [
    {
     "data": {
      "image/png": "[encoded data removed]",
      "text/plain": [
       "<matplotlib.figure.Figure at 0xcba4f98>"
      ]
     },
     "metadata": {},
     "output_type": "display_data"
    }
   ],
   "source": [
    "plt.scatter(range(len(y_test)),y_test,marker=\".\",label=\"y_test\")\n",
    "plt.scatter(range(len(dt_tree_test_pred)),dt_tree_test_pred,marker=\"^\",label=\"x_test_pred\")\n",
    "plt.legend()\n",
    "plt.grid()\n",
    "plt.show()"
   ]
  },
  {
   "cell_type": "code",
   "execution_count": 191,
   "metadata": {
    "collapsed": false
   },
   "outputs": [
    {
     "name": "stdout",
     "output_type": "stream",
     "text": [
      "             precision    recall  f1-score   support\n",
      "\n",
      "          0       1.00      1.00      1.00        44\n",
      "          1       1.00      1.00      1.00        39\n",
      "          2       1.00      1.00      1.00        35\n",
      "          3       1.00      1.00      1.00        32\n",
      "\n",
      "avg / total       1.00      1.00      1.00       150\n",
      "\n",
      "             precision    recall  f1-score   support\n",
      "\n",
      "          0       0.25      0.20      0.22        15\n",
      "          1       0.22      0.33      0.27        12\n",
      "          2       0.12      0.09      0.11        11\n",
      "          3       0.33      0.33      0.33        12\n",
      "\n",
      "avg / total       0.24      0.24      0.23        50\n",
      "\n"
     ]
    }
   ],
   "source": [
    "print(cls_res(y_train,dt_tree_train_pred))\n",
    "print(cls_res(y_test,dt_tree_test_pred))"
   ]
  },
  {
   "cell_type": "code",
   "execution_count": 192,
   "metadata": {
    "collapsed": true
   },
   "outputs": [],
   "source": [
    "#1.5 random forest"
   ]
  },
  {
   "cell_type": "code",
   "execution_count": 193,
   "metadata": {
    "collapsed": true
   },
   "outputs": [],
   "source": [
    "from sklearn.ensemble import RandomForestClassifier as rfc\n",
    "dt_rf=rfc(n_estimators=100)\n",
    "dt_rf.fit(x_train,y_train.values.ravel())\n",
    "dt_rf_train_pred=dt_rf.predict(x_train)\n",
    "dt_rf_test_pred=dt_rf.predict(x_test)"
   ]
  },
  {
   "cell_type": "code",
   "execution_count": 194,
   "metadata": {
    "collapsed": false
   },
   "outputs": [
    {
     "data": {
      "image/png": "[encoded data removed]",
      "text/plain": [
       "<matplotlib.figure.Figure at 0xc878898>"
      ]
     },
     "metadata": {},
     "output_type": "display_data"
    }
   ],
   "source": [
    "plt.scatter(range(len(y_test)),y_test,marker=\".\",label=\"y_test\")\n",
    "plt.scatter(range(len(dt_rf_test_pred)),dt_rf_test_pred,marker=\"^\",label=\"x_test_predict\")\n",
    "plt.legend()\n",
    "plt.grid()\n",
    "plt.show()"
   ]
  },
  {
   "cell_type": "code",
   "execution_count": 195,
   "metadata": {
    "collapsed": false
   },
   "outputs": [
    {
     "name": "stdout",
     "output_type": "stream",
     "text": [
      "             precision    recall  f1-score   support\n",
      "\n",
      "          0       1.00      1.00      1.00        44\n",
      "          1       1.00      1.00      1.00        39\n",
      "          2       1.00      1.00      1.00        35\n",
      "          3       1.00      1.00      1.00        32\n",
      "\n",
      "avg / total       1.00      1.00      1.00       150\n",
      "\n",
      "             precision    recall  f1-score   support\n",
      "\n",
      "          0       0.33      0.33      0.33        15\n",
      "          1       0.17      0.17      0.17        12\n",
      "          2       0.22      0.36      0.28        11\n",
      "          3       0.00      0.00      0.00        12\n",
      "\n",
      "avg / total       0.19      0.22      0.20        50\n",
      "\n"
     ]
    }
   ],
   "source": [
    "print(cls_res(y_train,dt_rf_train_pred))\n",
    "print(cls_res(y_test,dt_rf_test_pred))"
   ]
  },
  {
   "cell_type": "code",
   "execution_count": 196,
   "metadata": {
    "collapsed": true
   },
   "outputs": [],
   "source": [
    "#1.6 support vector machine"
   ]
  },
  {
   "cell_type": "code",
   "execution_count": 197,
   "metadata": {
    "collapsed": false
   },
   "outputs": [],
   "source": [
    "from sklearn import svm\n",
    "dt_svm=svm.SVC()\n",
    "dt_svm.fit(x_train,y_train.values.ravel())\n",
    "dt_svm_train_pred=dt_svm.predict(x_train)\n",
    "dt_svm_test_pred=dt_svm.predict(x_test)"
   ]
  },
  {
   "cell_type": "code",
   "execution_count": 198,
   "metadata": {
    "collapsed": false
   },
   "outputs": [
    {
     "data": {
      "image/png": "[encoded data removed]",
      "text/plain": [
       "<matplotlib.figure.Figure at 0xc33c128>"
      ]
     },
     "metadata": {},
     "output_type": "display_data"
    }
   ],
   "source": [
    "plt.scatter(range(len(y_test)),y_test,marker=\".\",label=\"y_test\")\n",
    "plt.scatter(range(len(dt_rf_test_pred)),dt_rf_test_pred,marker=\"^\",label=\"x_test_predict\")\n",
    "plt.legend()\n",
    "plt.grid()\n",
    "plt.show()"
   ]
  },
  {
   "cell_type": "code",
   "execution_count": 199,
   "metadata": {
    "collapsed": false,
    "scrolled": false
   },
   "outputs": [
    {
     "name": "stdout",
     "output_type": "stream",
     "text": [
      "             precision    recall  f1-score   support\n",
      "\n",
      "          0       1.00      1.00      1.00        44\n",
      "          1       1.00      1.00      1.00        39\n",
      "          2       1.00      1.00      1.00        35\n",
      "          3       1.00      1.00      1.00        32\n",
      "\n",
      "avg / total       1.00      1.00      1.00       150\n",
      "\n",
      "             precision    recall  f1-score   support\n",
      "\n",
      "          0       0.33      0.33      0.33        15\n",
      "          1       0.17      0.17      0.17        12\n",
      "          2       0.22      0.36      0.28        11\n",
      "          3       0.00      0.00      0.00        12\n",
      "\n",
      "avg / total       0.19      0.22      0.20        50\n",
      "\n"
     ]
    }
   ],
   "source": [
    "print(cls_res(y_train,dt_rf_train_pred))\n",
    "print(cls_res(y_test,dt_rf_test_pred))"
   ]
  }
 ],
 "metadata": {
  "kernelspec": {
   "display_name": "Python 3",
   "language": "python",
   "name": "python3"
  },
  "language_info": {
   "codemirror_mode": {
    "name": "ipython",
    "version": 3
   },
   "file_extension": ".py",
   "mimetype": "text/x-python",
   "name": "python",
   "nbconvert_exporter": "python",
   "pygments_lexer": "ipython3",
   "version": "3.6.0"
  }
 },
 "nbformat": 4,
 "nbformat_minor": 2
}
