{
 "cells": [
  {
   "cell_type": "code",
   "execution_count": 1,
   "metadata": {
    "collapsed": true
   },
   "outputs": [],
   "source": [
    "import numpy as np\n",
    "import pandas as pd"
   ]
  },
  {
   "cell_type": "code",
   "execution_count": 2,
   "metadata": {
    "collapsed": false
   },
   "outputs": [
    {
     "data": {
      "text/html": [
       "<div>\n",
       "<table border=\"1\" class=\"dataframe\">\n",
       "  <thead>\n",
       "    <tr style=\"text-align: right;\">\n",
       "      <th></th>\n",
       "      <th>id</th>\n",
       "      <th>grp1</th>\n",
       "      <th>grp2</th>\n",
       "      <th>cov1</th>\n",
       "      <th>cov2</th>\n",
       "      <th>cov3</th>\n",
       "      <th>cov4</th>\n",
       "      <th>f1</th>\n",
       "      <th>f2</th>\n",
       "      <th>f3</th>\n",
       "      <th>f4</th>\n",
       "      <th>out1</th>\n",
       "      <th>out2</th>\n",
       "      <th>out3</th>\n",
       "      <th>out4</th>\n",
       "      <th>out4t</th>\n",
       "    </tr>\n",
       "  </thead>\n",
       "  <tbody>\n",
       "    <tr>\n",
       "      <th>0</th>\n",
       "      <td>1</td>\n",
       "      <td>0</td>\n",
       "      <td>2</td>\n",
       "      <td>10.588393</td>\n",
       "      <td>5.765045</td>\n",
       "      <td>0</td>\n",
       "      <td>2</td>\n",
       "      <td>8.883864</td>\n",
       "      <td>0.791934</td>\n",
       "      <td>1</td>\n",
       "      <td>1</td>\n",
       "      <td>5.031413</td>\n",
       "      <td>0</td>\n",
       "      <td>1</td>\n",
       "      <td>1</td>\n",
       "      <td>201</td>\n",
       "    </tr>\n",
       "    <tr>\n",
       "      <th>1</th>\n",
       "      <td>2</td>\n",
       "      <td>1</td>\n",
       "      <td>0</td>\n",
       "      <td>10.095498</td>\n",
       "      <td>5.273806</td>\n",
       "      <td>0</td>\n",
       "      <td>1</td>\n",
       "      <td>8.497210</td>\n",
       "      <td>0.881411</td>\n",
       "      <td>1</td>\n",
       "      <td>0</td>\n",
       "      <td>5.737039</td>\n",
       "      <td>0</td>\n",
       "      <td>2</td>\n",
       "      <td>1</td>\n",
       "      <td>125</td>\n",
       "    </tr>\n",
       "    <tr>\n",
       "      <th>2</th>\n",
       "      <td>3</td>\n",
       "      <td>0</td>\n",
       "      <td>2</td>\n",
       "      <td>10.221286</td>\n",
       "      <td>5.135972</td>\n",
       "      <td>1</td>\n",
       "      <td>2</td>\n",
       "      <td>8.175174</td>\n",
       "      <td>0.177713</td>\n",
       "      <td>0</td>\n",
       "      <td>2</td>\n",
       "      <td>5.387061</td>\n",
       "      <td>1</td>\n",
       "      <td>2</td>\n",
       "      <td>0</td>\n",
       "      <td>152</td>\n",
       "    </tr>\n",
       "    <tr>\n",
       "      <th>3</th>\n",
       "      <td>4</td>\n",
       "      <td>1</td>\n",
       "      <td>3</td>\n",
       "      <td>10.884562</td>\n",
       "      <td>5.459708</td>\n",
       "      <td>0</td>\n",
       "      <td>0</td>\n",
       "      <td>8.421732</td>\n",
       "      <td>0.052869</td>\n",
       "      <td>1</td>\n",
       "      <td>3</td>\n",
       "      <td>5.031891</td>\n",
       "      <td>0</td>\n",
       "      <td>2</td>\n",
       "      <td>1</td>\n",
       "      <td>148</td>\n",
       "    </tr>\n",
       "    <tr>\n",
       "      <th>4</th>\n",
       "      <td>5</td>\n",
       "      <td>0</td>\n",
       "      <td>2</td>\n",
       "      <td>10.707055</td>\n",
       "      <td>5.306728</td>\n",
       "      <td>0</td>\n",
       "      <td>1</td>\n",
       "      <td>8.714487</td>\n",
       "      <td>0.128239</td>\n",
       "      <td>1</td>\n",
       "      <td>1</td>\n",
       "      <td>5.337904</td>\n",
       "      <td>1</td>\n",
       "      <td>1</td>\n",
       "      <td>0</td>\n",
       "      <td>127</td>\n",
       "    </tr>\n",
       "  </tbody>\n",
       "</table>\n",
       "</div>"
      ],
      "text/plain": [
       "   id  grp1  grp2       cov1      cov2  cov3  cov4        f1        f2  f3  \\\n",
       "0   1     0     2  10.588393  5.765045     0     2  8.883864  0.791934   1   \n",
       "1   2     1     0  10.095498  5.273806     0     1  8.497210  0.881411   1   \n",
       "2   3     0     2  10.221286  5.135972     1     2  8.175174  0.177713   0   \n",
       "3   4     1     3  10.884562  5.459708     0     0  8.421732  0.052869   1   \n",
       "4   5     0     2  10.707055  5.306728     0     1  8.714487  0.128239   1   \n",
       "\n",
       "   f4      out1  out2  out3  out4  out4t  \n",
       "0   1  5.031413     0     1     1    201  \n",
       "1   0  5.737039     0     2     1    125  \n",
       "2   2  5.387061     1     2     0    152  \n",
       "3   3  5.031891     0     2     1    148  \n",
       "4   1  5.337904     1     1     0    127  "
      ]
     },
     "execution_count": 2,
     "metadata": {},
     "output_type": "execute_result"
    }
   ],
   "source": [
    "#0.load data\n",
    "dt=pd.read_csv(\"D:\\Data\\python\\data0.csv\") \n",
    "\n",
    "#show the top 5 rows of data\n",
    "dt.head() "
   ]
  },
  {
   "cell_type": "code",
   "execution_count": null,
   "metadata": {
    "collapsed": true
   },
   "outputs": [],
   "source": [
    "#Data mining alogrithms inlcude 1.principal component analysis, 2.factor analysis, 3.cluster analysis, 4.association analysis."
   ]
  },
  {
   "cell_type": "code",
   "execution_count": 3,
   "metadata": {
    "collapsed": false
   },
   "outputs": [],
   "source": [
    "#1. Principal component analysis\n",
    "from matplotlib.mlab import PCA as mlabPCA"
   ]
  },
  {
   "cell_type": "code",
   "execution_count": 4,
   "metadata": {
    "collapsed": false
   },
   "outputs": [
    {
     "data": {
      "text/html": [
       "<div>\n",
       "<table border=\"1\" class=\"dataframe\">\n",
       "  <thead>\n",
       "    <tr style=\"text-align: right;\">\n",
       "      <th></th>\n",
       "      <th>cov1</th>\n",
       "      <th>cov2</th>\n",
       "      <th>f1</th>\n",
       "      <th>f2</th>\n",
       "      <th>out1</th>\n",
       "    </tr>\n",
       "  </thead>\n",
       "  <tbody>\n",
       "    <tr>\n",
       "      <th>0</th>\n",
       "      <td>10.588393</td>\n",
       "      <td>5.765045</td>\n",
       "      <td>8.883864</td>\n",
       "      <td>0.791934</td>\n",
       "      <td>5.031413</td>\n",
       "    </tr>\n",
       "    <tr>\n",
       "      <th>1</th>\n",
       "      <td>10.095498</td>\n",
       "      <td>5.273806</td>\n",
       "      <td>8.497210</td>\n",
       "      <td>0.881411</td>\n",
       "      <td>5.737039</td>\n",
       "    </tr>\n",
       "    <tr>\n",
       "      <th>2</th>\n",
       "      <td>10.221286</td>\n",
       "      <td>5.135972</td>\n",
       "      <td>8.175174</td>\n",
       "      <td>0.177713</td>\n",
       "      <td>5.387061</td>\n",
       "    </tr>\n",
       "    <tr>\n",
       "      <th>3</th>\n",
       "      <td>10.884562</td>\n",
       "      <td>5.459708</td>\n",
       "      <td>8.421732</td>\n",
       "      <td>0.052869</td>\n",
       "      <td>5.031891</td>\n",
       "    </tr>\n",
       "    <tr>\n",
       "      <th>4</th>\n",
       "      <td>10.707055</td>\n",
       "      <td>5.306728</td>\n",
       "      <td>8.714487</td>\n",
       "      <td>0.128239</td>\n",
       "      <td>5.337904</td>\n",
       "    </tr>\n",
       "  </tbody>\n",
       "</table>\n",
       "</div>"
      ],
      "text/plain": [
       "        cov1      cov2        f1        f2      out1\n",
       "0  10.588393  5.765045  8.883864  0.791934  5.031413\n",
       "1  10.095498  5.273806  8.497210  0.881411  5.737039\n",
       "2  10.221286  5.135972  8.175174  0.177713  5.387061\n",
       "3  10.884562  5.459708  8.421732  0.052869  5.031891\n",
       "4  10.707055  5.306728  8.714487  0.128239  5.337904"
      ]
     },
     "execution_count": 4,
     "metadata": {},
     "output_type": "execute_result"
    }
   ],
   "source": [
    "x=dt[[\"cov1\",\"cov2\",\"f1\",\"f2\",\"out1\"]] #selet columns\n",
    "x.head()"
   ]
  },
  {
   "cell_type": "code",
   "execution_count": 5,
   "metadata": {
    "collapsed": true
   },
   "outputs": [],
   "source": [
    "x_pca0=mlabPCA(x,standardize=True) #standardize para means standarization of orignial data"
   ]
  },
  {
   "cell_type": "code",
   "execution_count": 6,
   "metadata": {
    "collapsed": false
   },
   "outputs": [
    {
     "data": {
      "text/plain": [
       "5"
      ]
     },
     "execution_count": 6,
     "metadata": {},
     "output_type": "execute_result"
    }
   ],
   "source": [
    "len(x_pca0.s) #original eigenvalues "
   ]
  },
  {
   "cell_type": "code",
   "execution_count": 7,
   "metadata": {
    "collapsed": false
   },
   "outputs": [],
   "source": [
    "x_var=pd.DataFrame((x_pca0.s)/np.mean(x_pca0.s),columns=[\"Eigenvalue\"])#,index=list(range(0,len(x_pca0.s))))"
   ]
  },
  {
   "cell_type": "code",
   "execution_count": 8,
   "metadata": {
    "collapsed": false
   },
   "outputs": [
    {
     "data": {
      "text/html": [
       "<div>\n",
       "<table border=\"1\" class=\"dataframe\">\n",
       "  <thead>\n",
       "    <tr style=\"text-align: right;\">\n",
       "      <th></th>\n",
       "      <th>Eigenvalue</th>\n",
       "      <th>Proportion</th>\n",
       "      <th>Cumulative</th>\n",
       "    </tr>\n",
       "  </thead>\n",
       "  <tbody>\n",
       "    <tr>\n",
       "      <th>0</th>\n",
       "      <td>1.201067</td>\n",
       "      <td>0.240213</td>\n",
       "      <td>0.240213</td>\n",
       "    </tr>\n",
       "    <tr>\n",
       "      <th>1</th>\n",
       "      <td>1.114510</td>\n",
       "      <td>0.222902</td>\n",
       "      <td>0.463115</td>\n",
       "    </tr>\n",
       "    <tr>\n",
       "      <th>2</th>\n",
       "      <td>1.000528</td>\n",
       "      <td>0.200106</td>\n",
       "      <td>0.663221</td>\n",
       "    </tr>\n",
       "    <tr>\n",
       "      <th>3</th>\n",
       "      <td>0.866697</td>\n",
       "      <td>0.173339</td>\n",
       "      <td>0.836560</td>\n",
       "    </tr>\n",
       "    <tr>\n",
       "      <th>4</th>\n",
       "      <td>0.817198</td>\n",
       "      <td>0.163440</td>\n",
       "      <td>1.000000</td>\n",
       "    </tr>\n",
       "  </tbody>\n",
       "</table>\n",
       "</div>"
      ],
      "text/plain": [
       "   Eigenvalue  Proportion  Cumulative\n",
       "0    1.201067    0.240213    0.240213\n",
       "1    1.114510    0.222902    0.463115\n",
       "2    1.000528    0.200106    0.663221\n",
       "3    0.866697    0.173339    0.836560\n",
       "4    0.817198    0.163440    1.000000"
      ]
     },
     "execution_count": 8,
     "metadata": {},
     "output_type": "execute_result"
    }
   ],
   "source": [
    "s=0\n",
    "p,c=[],[]\n",
    "for i in range(0,len(x_pca0.fracs)):\n",
    "    s+=x_pca0.fracs[i]\n",
    "    p.append(x_pca0.fracs[i])\n",
    "    c.append(s)\n",
    "x_var[\"Proportion\"]=p\n",
    "x_var[\"Cumulative\"]=c\n",
    "x_var"
   ]
  },
  {
   "cell_type": "code",
   "execution_count": 9,
   "metadata": {
    "collapsed": false
   },
   "outputs": [],
   "source": [
    "import matplotlib.pyplot as plt"
   ]
  },
  {
   "cell_type": "code",
   "execution_count": 10,
   "metadata": {
    "collapsed": false
   },
   "outputs": [
    {
     "data": {
      "image/png": "[encoded data removed]",
      "text/plain": [
       "<matplotlib.figure.Figure at 0xa280588>"
      ]
     },
     "metadata": {},
     "output_type": "display_data"
    }
   ],
   "source": [
    "fig,(ax1,ax2)=plt.subplots(1,2)\n",
    "fig.set_size_inches(6.8,3)\n",
    "fig.subplots_adjust(wspace=0.4)\n",
    "\n",
    "ax1.plot(range(1,len(x_var[\"Eigenvalue\"])+1),x_var[\"Eigenvalue\"],\"o-\")\n",
    "ax1.set_title(\"Scree Plot\")\n",
    "ax1.set_xlabel(\"Principle Components\")\n",
    "ax1.set_ylabel(\"Eigenvalue\")\n",
    "ax1.grid()\n",
    "\n",
    "ax2.plot(x_var[\"Proportion\"],\"o-\")\n",
    "ax2.plot(x_var[\"Cumulative\"],\"bo-.\")\n",
    "ax2.set_title(\"Variance Explained\")\n",
    "ax2.set_xlabel(\"Principle Components\")\n",
    "ax2.set_ylabel(\"Proportion\")\n",
    "ax2.grid()\n",
    "plt.show()"
   ]
  },
  {
   "cell_type": "code",
   "execution_count": 11,
   "metadata": {
    "collapsed": false
   },
   "outputs": [
    {
     "data": {
      "text/html": [
       "<div>\n",
       "<table border=\"1\" class=\"dataframe\">\n",
       "  <thead>\n",
       "    <tr style=\"text-align: right;\">\n",
       "      <th></th>\n",
       "      <th>cov1</th>\n",
       "      <th>cov2</th>\n",
       "      <th>f1</th>\n",
       "      <th>f2</th>\n",
       "      <th>out1</th>\n",
       "    </tr>\n",
       "  </thead>\n",
       "  <tbody>\n",
       "    <tr>\n",
       "      <th>Prin1</th>\n",
       "      <td>-0.388806</td>\n",
       "      <td>0.305546</td>\n",
       "      <td>0.507590</td>\n",
       "      <td>-0.421558</td>\n",
       "      <td>0.565784</td>\n",
       "    </tr>\n",
       "    <tr>\n",
       "      <th>Prin2</th>\n",
       "      <td>0.551573</td>\n",
       "      <td>0.613342</td>\n",
       "      <td>0.352467</td>\n",
       "      <td>-0.180961</td>\n",
       "      <td>-0.403235</td>\n",
       "    </tr>\n",
       "    <tr>\n",
       "      <th>Prin3</th>\n",
       "      <td>-0.430804</td>\n",
       "      <td>0.263220</td>\n",
       "      <td>0.367162</td>\n",
       "      <td>0.753537</td>\n",
       "      <td>-0.206145</td>\n",
       "    </tr>\n",
       "    <tr>\n",
       "      <th>Prin4</th>\n",
       "      <td>-0.077295</td>\n",
       "      <td>0.672964</td>\n",
       "      <td>-0.670427</td>\n",
       "      <td>0.123078</td>\n",
       "      <td>0.276629</td>\n",
       "    </tr>\n",
       "    <tr>\n",
       "      <th>Prin5</th>\n",
       "      <td>0.594163</td>\n",
       "      <td>-0.091037</td>\n",
       "      <td>0.183951</td>\n",
       "      <td>0.454505</td>\n",
       "      <td>0.631086</td>\n",
       "    </tr>\n",
       "  </tbody>\n",
       "</table>\n",
       "</div>"
      ],
      "text/plain": [
       "           cov1      cov2        f1        f2      out1\n",
       "Prin1 -0.388806  0.305546  0.507590 -0.421558  0.565784\n",
       "Prin2  0.551573  0.613342  0.352467 -0.180961 -0.403235\n",
       "Prin3 -0.430804  0.263220  0.367162  0.753537 -0.206145\n",
       "Prin4 -0.077295  0.672964 -0.670427  0.123078  0.276629\n",
       "Prin5  0.594163 -0.091037  0.183951  0.454505  0.631086"
      ]
     },
     "execution_count": 11,
     "metadata": {},
     "output_type": "execute_result"
    }
   ],
   "source": [
    "x_eigen=pd.DataFrame(x_pca0.Wt,index=[\"Prin1\",\"Prin2\",\"Prin3\",\"Prin4\",\"Prin5\"],columns=(x.columns))\n",
    "x_eigen"
   ]
  },
  {
   "cell_type": "code",
   "execution_count": 12,
   "metadata": {
    "collapsed": false
   },
   "outputs": [
    {
     "data": {
      "text/plain": [
       "array([-0.62376145, -1.01675657, -0.29375569,  1.40502643,  0.49266324])"
      ]
     },
     "execution_count": 12,
     "metadata": {},
     "output_type": "execute_result"
    }
   ],
   "source": [
    "x_pca0.Y[20]"
   ]
  },
  {
   "cell_type": "code",
   "execution_count": 13,
   "metadata": {
    "collapsed": true
   },
   "outputs": [],
   "source": [
    "#sklearn method for principal component analysis\n",
    "from sklearn.decomposition import PCA as skPCA\n",
    "from sklearn.preprocessing import scale\n",
    "x_std=scale(x)\n",
    "x_pca1=skPCA(n_components=len(x.columns)).fit(x_std)"
   ]
  },
  {
   "cell_type": "code",
   "execution_count": 14,
   "metadata": {
    "collapsed": false
   },
   "outputs": [
    {
     "data": {
      "text/plain": [
       "array([ 0.24021333,  0.22290209,  0.20010562,  0.17333943,  0.16343953])"
      ]
     },
     "execution_count": 14,
     "metadata": {},
     "output_type": "execute_result"
    }
   ],
   "source": [
    "x_pca1.explained_variance_ratio_"
   ]
  },
  {
   "cell_type": "code",
   "execution_count": 15,
   "metadata": {
    "collapsed": false,
    "scrolled": false
   },
   "outputs": [
    {
     "data": {
      "text/plain": [
       "array([[ 0.38880578, -0.30554639, -0.50759043,  0.4215584 , -0.56578436],\n",
       "       [ 0.55157334,  0.61334152,  0.35246734, -0.18096147, -0.40323535],\n",
       "       [ 0.43080446, -0.26322042, -0.36716236, -0.7535375 ,  0.20614453],\n",
       "       [ 0.07729541, -0.67296419,  0.67042723, -0.1230783 , -0.27662916],\n",
       "       [-0.59416315,  0.09103738, -0.18395073, -0.4545046 , -0.6310864 ]])"
      ]
     },
     "execution_count": 15,
     "metadata": {},
     "output_type": "execute_result"
    }
   ],
   "source": [
    "x_pca1.components_"
   ]
  },
  {
   "cell_type": "code",
   "execution_count": 141,
   "metadata": {
    "collapsed": false
   },
   "outputs": [
    {
     "data": {
      "text/plain": [
       "array([[  4.81343119e-01,   1.82964279e+00,  -1.78797502e+00],\n",
       "       [ -2.01321439e-01,  -1.64993369e+00,  -1.30233861e+00],\n",
       "       [  3.23460563e-01,  -1.17735310e+00,   1.00967429e+00],\n",
       "       [  9.25501410e-01,   1.62930797e+00,   1.44480048e+00],\n",
       "       [ -1.38600054e-01,   8.53483656e-01,   9.75036637e-01],\n",
       "       [  2.14536031e+00,  -8.60856257e-01,   1.13932786e-01],\n",
       "       [ -4.21186583e-01,  -4.63487736e-01,  -4.07288008e-01],\n",
       "       [  1.27521589e-01,   2.34975751e+00,   1.13674446e-01],\n",
       "       [ -1.31198677e+00,  -1.53110074e+00,   6.66992343e-02],\n",
       "       [  9.07221188e-01,   2.09208495e+00,  -8.09676426e-01],\n",
       "       [  1.29323518e+00,  -1.24976474e+00,   2.39615567e-01],\n",
       "       [  2.99061897e-01,   3.88699586e-01,  -1.55976418e+00],\n",
       "       [  1.57323507e-01,   1.08277076e+00,   1.83561414e-01],\n",
       "       [  1.96599479e+00,  -7.98722294e-01,  -5.99659283e-02],\n",
       "       [ -9.38482385e-01,  -1.09303309e+00,   1.76375636e-01],\n",
       "       [ -7.44213355e-02,  -7.98246108e-01,  -2.81560636e-01],\n",
       "       [  9.71611231e-01,   1.95281272e+00,   1.09923116e+00],\n",
       "       [ -4.83128440e-01,   9.21516191e-01,   7.64177120e-02],\n",
       "       [  5.48293529e-02,   1.47263146e+00,  -1.31985555e-02],\n",
       "       [  3.57023426e-01,  -1.05147872e+00,  -1.03110150e+00],\n",
       "       [  6.25326725e-01,  -1.01930803e+00,   2.94492842e-01],\n",
       "       [ -1.51058502e+00,   1.33475498e+00,   1.39299872e-01],\n",
       "       [  7.36047634e-01,  -5.21557156e-01,  -2.12002854e+00],\n",
       "       [  1.18855278e+00,  -1.25782265e+00,  -3.99363234e-01],\n",
       "       [  8.06033871e-01,  -1.47723046e+00,   1.62638069e+00],\n",
       "       [ -1.21286546e+00,   1.17816296e+00,   1.70014413e+00],\n",
       "       [ -3.81035265e-01,  -1.87409529e+00,   1.55318201e-01],\n",
       "       [ -1.35828318e+00,  -8.71313487e-01,   1.03872343e+00],\n",
       "       [ -2.26345574e+00,  -6.58424274e-01,   5.06314901e-01],\n",
       "       [  1.81106789e-01,   1.05110629e+00,   6.09821465e-01],\n",
       "       [  2.79825282e-01,   8.74686657e-01,   1.59393553e+00],\n",
       "       [ -2.01564126e-01,  -2.32199212e+00,   2.06967115e-01],\n",
       "       [  1.29730687e+00,   6.42222792e-01,   1.76805652e+00],\n",
       "       [ -1.19891224e+00,   3.72495316e-01,  -2.57962339e-01],\n",
       "       [  1.16242106e+00,   6.29445018e-01,   1.06766105e+00],\n",
       "       [ -1.57051447e+00,   3.07767067e-01,  -1.06410071e+00],\n",
       "       [ -3.33786222e-02,   1.07751374e+00,   1.88017715e+00],\n",
       "       [  8.98419849e-01,   1.61223139e+00,   1.10298473e-01],\n",
       "       [ -1.71745421e-01,   2.22911575e+00,   1.94663820e-02],\n",
       "       [  1.99047245e+00,   9.64668428e-01,   1.52922063e-01],\n",
       "       [  3.03420660e+00,   8.54258647e-01,  -3.29844448e-01],\n",
       "       [ -1.10867501e+00,  -5.69210209e-01,   1.52940291e+00],\n",
       "       [ -4.81175990e-02,   1.42956968e+00,   2.78903659e-01],\n",
       "       [ -1.71010882e+00,  -1.20116292e+00,  -3.00882479e-01],\n",
       "       [  1.28379614e+00,  -9.15021359e-01,  -3.36348590e-01],\n",
       "       [ -1.07081919e+00,   8.41535900e-01,  -1.73199964e-01],\n",
       "       [ -3.40657793e-01,   1.04094556e-01,   4.38153821e-01],\n",
       "       [  4.84184070e-01,   3.02007948e-01,  -2.87695494e-01],\n",
       "       [ -3.05855143e-01,  -2.94619520e-01,   6.46110458e-01],\n",
       "       [  9.71282300e-01,   2.67983724e-01,  -6.90352363e-01],\n",
       "       [  1.07218008e+00,   1.98718669e+00,  -1.16369842e+00],\n",
       "       [  1.18664102e+00,   1.75178278e+00,   2.46315148e-01],\n",
       "       [ -8.40322482e-01,  -5.55604434e-01,   9.56412882e-01],\n",
       "       [ -9.21117869e-01,  -6.46642005e-01,   3.44432378e-01],\n",
       "       [  1.06722122e+00,   8.62903752e-01,  -1.84213111e+00],\n",
       "       [ -4.15466223e-01,  -4.10038858e-01,   6.33719066e-01],\n",
       "       [ -4.59736805e-02,   5.47912313e-02,   1.25556915e+00],\n",
       "       [ -7.12091068e-01,  -2.10717413e+00,   1.09055425e+00],\n",
       "       [ -2.37747401e+00,  -8.05103038e-02,   7.85974816e-01],\n",
       "       [ -2.46277128e-01,   8.64452044e-01,  -1.43349811e+00],\n",
       "       [ -2.03902441e+00,  -1.16915742e+00,   2.77019112e-01],\n",
       "       [  8.16916197e-01,  -2.42997309e-01,   5.63693698e-02],\n",
       "       [ -7.04988366e-01,  -4.00204474e-02,  -1.08748192e+00],\n",
       "       [  3.77509474e-01,   1.02285463e+00,   8.44884692e-01],\n",
       "       [  8.89871023e-01,  -2.28825594e+00,  -6.99524848e-01],\n",
       "       [  2.42443570e+00,  -1.11462438e+00,  -2.73867533e-01],\n",
       "       [  9.77472364e-01,  -1.59285141e-01,  -5.57859127e-02],\n",
       "       [ -3.35889199e-01,   4.82075670e-01,   1.95176814e+00],\n",
       "       [  1.03505038e+00,   2.19409011e-01,  -1.26875392e+00],\n",
       "       [ -6.01408898e-01,   1.21151567e+00,  -2.33758932e+00],\n",
       "       [ -1.27524310e+00,   1.77570869e+00,  -1.07855097e+00],\n",
       "       [  8.81339810e-01,  -4.84338689e-02,   4.31352396e-01],\n",
       "       [ -3.74363052e-01,  -8.55702163e-01,   1.67178961e+00],\n",
       "       [ -1.05569037e+00,   3.23637404e-01,   1.55009284e+00],\n",
       "       [  1.71249239e-01,   8.10103165e-02,   2.53291749e+00],\n",
       "       [ -4.75907192e-01,  -2.43205390e-01,  -1.87651542e+00],\n",
       "       [  3.07815328e-01,  -1.42318903e+00,   1.39006330e+00],\n",
       "       [ -1.09954540e-01,  -2.25443473e+00,  -5.57515272e-01],\n",
       "       [ -1.20995566e-01,   2.42385013e-01,   7.04494868e-01],\n",
       "       [ -5.75225741e-01,   7.32170150e-01,   3.41412415e-01],\n",
       "       [ -1.20279484e+00,   9.68902339e-01,  -1.89987077e+00],\n",
       "       [  2.00499113e-01,   2.16787683e-01,   7.64401551e-01],\n",
       "       [  1.71605669e+00,  -3.89931256e-01,   5.67709666e-01],\n",
       "       [  2.07244640e-02,   9.85894135e-01,   1.07331297e+00],\n",
       "       [ -1.46751945e+00,  -1.85738343e-01,  -8.55305213e-01],\n",
       "       [ -1.31335027e+00,  -9.30023618e-01,   3.50339814e-01],\n",
       "       [  4.62610046e-01,   1.63631826e-01,  -1.34394377e+00],\n",
       "       [  1.59087899e+00,  -6.82646254e-01,   9.57903119e-02],\n",
       "       [ -2.00593227e+00,   6.93632746e-01,  -1.62969087e+00],\n",
       "       [  2.25331508e-01,   7.82978984e-01,  -4.00841656e-01],\n",
       "       [ -1.35037119e-01,   1.35080122e+00,  -2.28811238e+00],\n",
       "       [ -7.33549517e-01,  -1.58774373e+00,   1.09603659e+00],\n",
       "       [ -9.69499908e-01,   9.72696654e-01,   1.87821651e-01],\n",
       "       [ -2.15850556e+00,   1.97507252e-01,  -9.41641005e-01],\n",
       "       [  1.19740987e+00,   1.97324150e+00,   1.15804522e+00],\n",
       "       [ -2.31128038e+00,   6.13931069e-01,   3.00305026e-03],\n",
       "       [ -5.63596591e-01,  -8.13699154e-01,  -6.03107847e-01],\n",
       "       [ -1.50376490e+00,   4.73306760e-01,  -7.77883319e-02],\n",
       "       [ -1.77726860e-01,  -1.26900604e+00,   2.56137315e-01],\n",
       "       [  1.13637330e+00,   2.31812739e+00,   1.47784098e+00],\n",
       "       [  1.14303422e-01,  -7.99445101e-01,  -1.12810062e+00],\n",
       "       [  9.78299843e-01,  -3.64863923e-02,  -4.15955402e-01],\n",
       "       [ -9.96259993e-01,   2.31967400e+00,   6.37458065e-01],\n",
       "       [ -7.12780904e-01,  -1.14501552e+00,   8.00854483e-01],\n",
       "       [  3.08688752e-01,   3.38889364e-01,   1.89380088e+00],\n",
       "       [  1.96517855e+00,   3.72292600e-01,  -3.27915726e-01],\n",
       "       [  1.95121470e-01,   1.16679346e+00,   2.47231819e-01],\n",
       "       [ -1.47121844e+00,  -1.48683602e+00,  -4.77797344e-01],\n",
       "       [  1.03627515e+00,  -8.29201578e-01,  -3.60581544e-01],\n",
       "       [  3.92265157e-01,  -1.44035287e+00,   4.17437080e-01],\n",
       "       [  1.46526750e+00,   5.86216652e-01,  -5.40967358e-01],\n",
       "       [ -4.17314237e-01,  -1.72801042e+00,  -2.75240474e-01],\n",
       "       [ -6.74228107e-01,  -8.27920813e-01,   1.52198834e-02],\n",
       "       [ -9.40048790e-01,   1.95498760e+00,  -2.82993600e-01],\n",
       "       [  1.05988358e+00,  -4.78311558e-01,   2.89504882e-02],\n",
       "       [ -1.02063762e+00,   5.22410713e-01,   1.37743262e+00],\n",
       "       [  3.58696294e-01,  -3.50766682e-01,   8.76743286e-01],\n",
       "       [ -1.53248606e+00,   1.50715626e+00,   6.13469386e-01],\n",
       "       [ -4.60677768e-01,   1.05217914e+00,   1.30458335e+00],\n",
       "       [  2.62481247e-01,  -8.61131627e-01,   1.90078690e+00],\n",
       "       [ -3.17159257e-01,  -2.83001304e-01,   1.41480247e+00],\n",
       "       [  2.65528451e-01,  -4.79466751e-01,  -2.39878538e-01],\n",
       "       [ -2.89716040e-01,   9.05511379e-02,   6.40773306e-01],\n",
       "       [ -9.71378534e-01,  -1.38006928e+00,  -9.53549355e-01],\n",
       "       [ -1.73467039e+00,   1.55635115e+00,  -9.82696944e-01],\n",
       "       [ -3.91690040e-01,   7.01559050e-01,   1.96123197e-01],\n",
       "       [ -9.31796056e-01,  -6.86778141e-01,  -2.01770607e-01],\n",
       "       [  1.32746066e+00,  -2.87283381e-01,  -2.07471835e+00],\n",
       "       [ -5.34075377e-01,   1.67943605e+00,   4.33016414e-01],\n",
       "       [  8.41847276e-01,  -1.17149079e+00,  -6.53748391e-01],\n",
       "       [ -1.27095775e+00,   5.21111573e-01,  -1.30811205e+00],\n",
       "       [  1.19754570e+00,  -6.71184704e-01,   1.87539989e+00],\n",
       "       [  5.11956704e-01,  -1.19011411e+00,  -1.57710484e+00],\n",
       "       [ -7.13251373e-01,  -4.01662177e-01,  -1.61530082e-01],\n",
       "       [ -1.15298647e+00,  -1.29521715e+00,   2.16717958e-01],\n",
       "       [ -1.70812933e+00,  -1.81629623e+00,   5.32166272e-01],\n",
       "       [  5.56863976e-01,   4.64738642e-01,  -1.07543931e+00],\n",
       "       [ -1.67995927e+00,   7.95796370e-01,  -3.36803172e-01],\n",
       "       [  9.57495815e-01,  -4.59415601e-01,   1.21989162e-01],\n",
       "       [ -1.36924633e+00,  -1.11899586e+00,   4.58852063e-01],\n",
       "       [ -1.29966724e+00,   5.08906004e-01,  -1.25640285e+00],\n",
       "       [  2.99543713e-02,   2.27373014e-01,  -6.98725683e-01],\n",
       "       [  9.73412364e-01,   9.76918682e-01,  -2.03597333e+00],\n",
       "       [ -2.84887547e-01,  -3.64762560e-01,   1.36958777e+00],\n",
       "       [  2.18276312e+00,   5.71854257e-02,   3.70114348e-01],\n",
       "       [  1.71778846e+00,   3.50999896e-01,  -1.83453450e-01],\n",
       "       [ -5.36273868e-01,  -8.24993708e-01,   1.80948569e-01],\n",
       "       [  7.21810601e-01,   6.56365707e-01,   1.93647284e+00],\n",
       "       [  1.22672493e+00,  -1.23336696e+00,  -1.22563464e+00],\n",
       "       [ -6.31809575e-01,   7.70367416e-01,  -1.68011449e+00],\n",
       "       [  2.13363309e-01,  -5.49781650e-01,  -1.07144709e+00],\n",
       "       [  4.43946834e-01,   1.54435528e-02,  -8.25995417e-01],\n",
       "       [ -4.12826050e-01,  -3.03241312e-01,   1.93356873e+00],\n",
       "       [ -1.44348575e+00,   1.19186668e+00,  -2.55420410e-01],\n",
       "       [ -1.11707815e+00,   7.39059302e-01,  -1.73996986e-01],\n",
       "       [ -1.13473819e+00,   3.17228053e-01,  -2.52521859e-01],\n",
       "       [ -6.60571445e-01,  -1.99705891e+00,  -1.75408921e-01],\n",
       "       [ -8.07343373e-01,   2.78379484e-01,   4.11965829e-01],\n",
       "       [  1.86291293e+00,   5.79513674e-01,  -5.10074095e-01],\n",
       "       [  1.88575650e+00,  -1.79121973e-02,   5.16149407e-01],\n",
       "       [ -3.91163827e-02,   2.60388413e-01,   7.90471767e-01],\n",
       "       [  3.94227816e-01,  -1.94467142e+00,   9.47333013e-01],\n",
       "       [  9.99318964e-01,  -4.34246985e-01,  -1.03257487e-01],\n",
       "       [  1.53914576e+00,  -5.32065226e-01,  -7.93971259e-01],\n",
       "       [  6.82956922e-01,   3.67185343e-01,  -5.23955997e-01],\n",
       "       [  2.74928759e+00,  -2.78275101e-01,  -1.68678514e-01],\n",
       "       [  4.22079669e-01,   5.87729627e-01,   2.02190422e-02],\n",
       "       [ -4.30603358e-01,   8.52680120e-01,   5.67222046e-01],\n",
       "       [ -9.81086749e-01,   1.26983257e+00,  -1.42978479e+00],\n",
       "       [  1.03938998e+00,   2.73119454e-01,  -4.43308424e-01],\n",
       "       [ -1.29674756e+00,   4.06709115e-01,  -2.11784082e-01],\n",
       "       [  7.66135945e-01,   7.84462472e-01,  -7.10182430e-01],\n",
       "       [ -9.01449442e-01,  -5.90309684e-02,  -7.64617954e-01],\n",
       "       [ -6.30352914e-01,  -8.47547786e-01,   1.49721682e+00],\n",
       "       [  7.98796566e-02,  -5.46630290e-01,   1.33042660e+00],\n",
       "       [  9.45799997e-01,  -5.41828391e-02,   3.82755093e-01],\n",
       "       [ -1.61588488e+00,   1.74205562e+00,  -4.52900547e-01],\n",
       "       [ -2.86894295e-01,  -1.75716369e+00,  -3.50501914e-01],\n",
       "       [  1.23762120e+00,  -5.66050897e-01,   1.27371110e-01],\n",
       "       [ -1.29205973e+00,  -5.81436300e-01,  -2.03468243e+00],\n",
       "       [  1.77854177e+00,   4.41073511e-01,  -4.18245662e-01],\n",
       "       [  1.48187828e+00,   4.30055555e-01,   1.29434417e+00],\n",
       "       [  9.93772600e-01,   7.86535812e-01,   6.21917929e-01],\n",
       "       [  7.48010762e-01,  -9.58845070e-01,  -6.94638445e-01],\n",
       "       [  1.60255771e+00,  -1.33828824e+00,  -3.34457051e-01],\n",
       "       [ -9.94361539e-01,  -1.37853732e+00,  -7.40840828e-01],\n",
       "       [  1.42032624e+00,  -1.32155919e+00,  -1.31287210e+00],\n",
       "       [  1.24091347e+00,   5.06026939e-01,  -1.28999793e+00],\n",
       "       [ -5.80337933e-01,   1.05458596e+00,   1.66999258e+00],\n",
       "       [ -1.23103850e-01,  -1.62477416e+00,  -1.27603419e+00],\n",
       "       [  8.44327008e-01,   1.52318075e-01,   3.55747837e-01],\n",
       "       [ -6.34746220e-01,   1.24065862e+00,  -6.16026669e-01],\n",
       "       [ -1.10364707e+00,  -2.90318517e-01,  -1.23926478e-01],\n",
       "       [ -1.16339089e+00,  -2.00517363e-01,  -6.72434356e-01],\n",
       "       [  3.52379849e-01,   2.87302030e-01,   8.63640185e-01],\n",
       "       [ -1.01196541e+00,   1.05854557e-01,   4.52142036e-01],\n",
       "       [  2.05260663e+00,  -1.13390310e+00,  -3.42405578e-01],\n",
       "       [ -1.45032016e-02,  -5.32361843e-01,  -2.29792123e+00],\n",
       "       [ -1.00741896e+00,  -6.01791380e-01,   2.15819096e-01],\n",
       "       [ -1.57811627e+00,  -1.16640859e+00,  -4.61025922e-01]])"
      ]
     },
     "execution_count": 141,
     "metadata": {},
     "output_type": "execute_result"
    }
   ],
   "source": [
    "x_pca1.transform(x_std)[:,:3]"
   ]
  },
  {
   "cell_type": "code",
   "execution_count": 17,
   "metadata": {
    "collapsed": false
   },
   "outputs": [
    {
     "data": {
      "text/plain": [
       "array([[ 0.31349452, -0.08372234, -0.22760257,  0.20103992, -0.41522561],\n",
       "       [ 0.22781411,  0.32722047,  0.25784691, -0.17623849, -0.10454889],\n",
       "       [ 0.18017429, -0.10927974, -0.15685805, -0.260969  ,  0.11641883],\n",
       "       [-0.01376186, -0.06224762,  0.05036597, -0.03363529, -0.03969001]])"
      ]
     },
     "execution_count": 17,
     "metadata": {},
     "output_type": "execute_result"
    }
   ],
   "source": [
    "#2 Factor analysis\n",
    "from sklearn.decomposition import FactorAnalysis as skFA\n",
    "x_fa0=skFA(n_components=len(x.columns)-1).fit(x_std)\n",
    "x_fa0.components_"
   ]
  },
  {
   "cell_type": "code",
   "execution_count": 18,
   "metadata": {
    "collapsed": false
   },
   "outputs": [
    {
     "data": {
      "text/plain": [
       "array([[ 0.58145305,  0.86983073],\n",
       "       [-0.36209442, -0.54263753],\n",
       "       [ 0.11671767, -0.58622695],\n",
       "       [ 0.77046013,  0.42801083],\n",
       "       [ 0.13261042,  0.25468959],\n",
       "       [ 0.74524476, -0.70565516],\n",
       "       [-0.18422671, -0.04043959],\n",
       "       [ 0.52372751,  0.98023624],\n",
       "       [-0.87028842, -0.46309866],\n",
       "       [ 0.74866332,  0.86266406],\n",
       "       [ 0.10424969, -0.77272842],\n",
       "       [ 0.28856573,  0.31954821],\n",
       "       [ 0.16413258,  0.37913317],\n",
       "       [ 0.92991644, -0.54505935],\n",
       "       [-0.66872927, -0.39845476],\n",
       "       [-0.39974389, -0.31564746],\n",
       "       [ 0.81481972,  0.58654915],\n",
       "       [ 0.04572512,  0.42603393],\n",
       "       [ 0.02848338,  0.55122449],\n",
       "       [-0.09839712, -0.36845036],\n",
       "       [-0.0031074 , -0.52497023],\n",
       "       [-0.5347322 ,  0.73217491],\n",
       "       [ 0.49355905, -0.10530405],\n",
       "       [ 0.46206812, -0.61663372],\n",
       "       [ 0.03168645, -0.90701082],\n",
       "       [-0.49826526,  0.39264158],\n",
       "       [-0.56825035, -0.76556987],\n",
       "       [-0.70158855, -0.25769856],\n",
       "       [-1.06951489, -0.02986386],\n",
       "       [ 0.23363158,  0.38186156],\n",
       "       [ 0.14254423,  0.18922786],\n",
       "       [-0.47626895, -0.9575655 ],\n",
       "       [ 0.7336539 , -0.10480197],\n",
       "       [-0.4846398 ,  0.30424174],\n",
       "       [ 0.55774143, -0.01500788],\n",
       "       [-0.82053677,  0.39043051],\n",
       "       [ 0.022857  ,  0.25588096],\n",
       "       [ 0.57811412,  0.51893576],\n",
       "       [ 0.38198714,  0.94958642],\n",
       "       [ 1.04177008,  0.08398516],\n",
       "       [ 1.42888882, -0.0200006 ],\n",
       "       [-0.62933129, -0.25307141],\n",
       "       [ 0.19540474,  0.5890284 ],\n",
       "       [-0.88281933, -0.24672956],\n",
       "       [ 0.37560615, -0.53108654],\n",
       "       [-0.52795741,  0.48616497],\n",
       "       [-0.20971595,  0.05569855],\n",
       "       [ 0.34614978,  0.08707139],\n",
       "       [-0.20074094, -0.16608568],\n",
       "       [ 0.61167031,  0.06955405],\n",
       "       [ 0.69484185,  0.75518432],\n",
       "       [ 0.77889167,  0.54079739],\n",
       "       [-0.36495122, -0.13837896],\n",
       "       [-0.35686776, -0.14516457],\n",
       "       [ 0.67569944,  0.45146744],\n",
       "       [-0.42644135, -0.14992568],\n",
       "       [-0.12841689, -0.09645587],\n",
       "       [-0.66842125, -0.85194865],\n",
       "       [-1.09687507,  0.17213559],\n",
       "       [ 0.17060759,  0.62035892],\n",
       "       [-1.03270802, -0.26018578],\n",
       "       [ 0.35266424, -0.2645555 ],\n",
       "       [-0.2546056 ,  0.17689588],\n",
       "       [ 0.23942497,  0.343768  ],\n",
       "       [ 0.09363738, -0.97632171],\n",
       "       [ 0.98183082, -0.75058093],\n",
       "       [ 0.45952429, -0.12947492],\n",
       "       [-0.29447213,  0.05451832],\n",
       "       [ 0.61050642,  0.11167337],\n",
       "       [ 0.11123043,  0.85355968],\n",
       "       [-0.39700355,  0.99434463],\n",
       "       [ 0.52436918, -0.16936527],\n",
       "       [-0.40970764, -0.45263275],\n",
       "       [-0.53320635,  0.07767158],\n",
       "       [-0.14650024, -0.26679289],\n",
       "       [-0.08544693,  0.16924624],\n",
       "       [-0.07940099, -0.74624471],\n",
       "       [-0.49200164, -0.89889132],\n",
       "       [ 0.25604666,  0.08021995],\n",
       "       [-0.18559214,  0.350904  ],\n",
       "       [-0.62519495,  0.70314256],\n",
       "       [-0.01073957, -0.07876812],\n",
       "       [ 0.837778  , -0.45010891],\n",
       "       [ 0.26747874,  0.23958335],\n",
       "       [-0.60682837,  0.19316084],\n",
       "       [-0.64370571, -0.25080776],\n",
       "       [ 0.32290123,  0.17212687],\n",
       "       [ 0.43525848, -0.55811097],\n",
       "       [-0.84789442,  0.72118989],\n",
       "       [ 0.11039214,  0.27779216],\n",
       "       [ 0.30643712,  0.83259426],\n",
       "       [-0.66045758, -0.64495834],\n",
       "       [-0.21459407,  0.55155478],\n",
       "       [-0.99011076,  0.47953121],\n",
       "       [ 0.78209445,  0.58787045],\n",
       "       [-0.87641987,  0.63024257],\n",
       "       [-0.37758028, -0.17782437],\n",
       "       [-0.4389887 ,  0.47265675],\n",
       "       [-0.24016824, -0.47186832],\n",
       "       [ 0.90568638,  0.73165461],\n",
       "       [-0.03591937, -0.17616608],\n",
       "       [ 0.51195768, -0.07238734],\n",
       "       [-0.16381345,  1.024742  ],\n",
       "       [-0.4727271 , -0.41591884],\n",
       "       [ 0.07376872, -0.14128046],\n",
       "       [ 0.84857284, -0.15104253],\n",
       "       [ 0.37454025,  0.40142309],\n",
       "       [-0.89642799, -0.43720214],\n",
       "       [ 0.41976546, -0.40666146],\n",
       "       [ 0.15662025, -0.65035199],\n",
       "       [ 0.72707042,  0.0908431 ],\n",
       "       [-0.58895356, -0.65387878],\n",
       "       [-0.24296058, -0.25127532],\n",
       "       [-0.16807549,  0.95612213],\n",
       "       [ 0.64518085, -0.2376381 ],\n",
       "       [-0.48765309,  0.16520123],\n",
       "       [ 0.31181137, -0.17906655],\n",
       "       [-0.74256363,  0.69624266],\n",
       "       [-0.02589964,  0.3615224 ],\n",
       "       [-0.11378358, -0.60228251],\n",
       "       [-0.41821036, -0.2200251 ],\n",
       "       [ 0.29156495, -0.12380724],\n",
       "       [-0.2538213 , -0.08355351],\n",
       "       [-0.70361554, -0.40696983],\n",
       "       [-0.37925873,  1.03222384],\n",
       "       [ 0.0124255 ,  0.39424761],\n",
       "       [-0.49951813, -0.11875663],\n",
       "       [ 0.69172157,  0.01685675],\n",
       "       [-0.12163399,  0.65306534],\n",
       "       [ 0.24213817, -0.51650946],\n",
       "       [-0.73697592,  0.46411413],\n",
       "       [ 0.44383291, -0.62401662],\n",
       "       [ 0.20853781, -0.41711396],\n",
       "       [-0.15846214, -0.07495705],\n",
       "       [-0.62325609, -0.37819157],\n",
       "       [-1.05399472, -0.58555608],\n",
       "       [ 0.36752863,  0.27563066],\n",
       "       [-0.75863518,  0.55180588],\n",
       "       [ 0.36568431, -0.37558559],\n",
       "       [-0.69353189, -0.34892416],\n",
       "       [-0.651509  ,  0.48157903],\n",
       "       [-0.09202552,  0.11634556],\n",
       "       [ 0.71137313,  0.4572885 ],\n",
       "       [-0.20796132, -0.22934756],\n",
       "       [ 1.03897877, -0.29650145],\n",
       "       [ 0.73515207, -0.09549353],\n",
       "       [-0.4110023 , -0.25291629],\n",
       "       [ 0.41416333, -0.00398764],\n",
       "       [ 0.57790847, -0.53528096],\n",
       "       [-0.36202988,  0.5364812 ],\n",
       "       [-0.04924116, -0.24043082],\n",
       "       [ 0.28519435,  0.01393992],\n",
       "       [-0.43674392, -0.35552483],\n",
       "       [-0.32435014,  0.77325562],\n",
       "       [-0.57605787,  0.47573827],\n",
       "       [-0.20679402,  0.37304543],\n",
       "       [-0.5962865 , -0.74728949],\n",
       "       [-0.19446923,  0.19212116],\n",
       "       [ 0.90035653,  0.00186422],\n",
       "       [ 0.93567174, -0.31710098],\n",
       "       [ 0.02594011, -0.03672074],\n",
       "       [-0.05000769, -0.92414448],\n",
       "       [ 0.17733312, -0.33660249],\n",
       "       [ 0.79247052, -0.30258441],\n",
       "       [ 0.1728138 ,  0.07026822],\n",
       "       [ 1.2401627 , -0.47512052],\n",
       "       [ 0.26499659,  0.19813124],\n",
       "       [ 0.06193526,  0.4750817 ],\n",
       "       [-0.29653909,  0.77946725],\n",
       "       [ 0.56894864,  0.00719267],\n",
       "       [-0.43624318,  0.45392301],\n",
       "       [ 0.22111158,  0.27095662],\n",
       "       [-0.28266271,  0.22352096],\n",
       "       [-0.45126391, -0.41473874],\n",
       "       [-0.02398519, -0.37348827],\n",
       "       [ 0.23224802, -0.18827763],\n",
       "       [-0.34993648,  1.0308698 ],\n",
       "       [-0.43684319, -0.66838185],\n",
       "       [ 0.52576739, -0.39931037],\n",
       "       [-0.80793093,  0.0649726 ],\n",
       "       [ 0.88386699, -0.0583244 ],\n",
       "       [ 0.85343972, -0.16550004],\n",
       "       [ 0.70004898,  0.09957316],\n",
       "       [ 0.13340923, -0.50244873],\n",
       "       [ 0.49902992, -0.74220675],\n",
       "       [-0.78642271, -0.39642221],\n",
       "       [ 0.58051552, -0.57071823],\n",
       "       [ 0.73192817,  0.18243724],\n",
       "       [-0.22498467,  0.36960016],\n",
       "       [-0.34219423, -0.52562486],\n",
       "       [ 0.25397486, -0.07566677],\n",
       "       [-0.17273329,  0.62068055],\n",
       "       [-0.68594309, -0.01595787],\n",
       "       [-0.62773608,  0.16869931],\n",
       "       [ 0.28440218, -0.03145274],\n",
       "       [-0.28232843,  0.16527963],\n",
       "       [ 0.92062895, -0.66854789],\n",
       "       [ 0.01321431, -0.01605561],\n",
       "       [-0.63765345, -0.19908982],\n",
       "       [-0.95928975, -0.19706103]])"
      ]
     },
     "execution_count": 18,
     "metadata": {},
     "output_type": "execute_result"
    }
   ],
   "source": [
    "x_fa1=skFA(n_components=len(x.columns)-3).fit_transform(x)\n",
    "x_fa1"
   ]
  },
  {
   "cell_type": "code",
   "execution_count": 19,
   "metadata": {
    "collapsed": false
   },
   "outputs": [],
   "source": [
    "#3. cluster analysis\n",
    "import scipy.cluster.hierarchy as hc"
   ]
  },
  {
   "cell_type": "code",
   "execution_count": 67,
   "metadata": {
    "collapsed": false
   },
   "outputs": [
    {
     "data": {
      "text/html": [
       "<div>\n",
       "<table border=\"1\" class=\"dataframe\">\n",
       "  <thead>\n",
       "    <tr style=\"text-align: right;\">\n",
       "      <th></th>\n",
       "      <th>0</th>\n",
       "      <th>1</th>\n",
       "      <th>2</th>\n",
       "      <th>3</th>\n",
       "      <th>4</th>\n",
       "      <th>5</th>\n",
       "      <th>6</th>\n",
       "      <th>7</th>\n",
       "      <th>8</th>\n",
       "      <th>9</th>\n",
       "      <th>...</th>\n",
       "      <th>190</th>\n",
       "      <th>191</th>\n",
       "      <th>192</th>\n",
       "      <th>193</th>\n",
       "      <th>194</th>\n",
       "      <th>195</th>\n",
       "      <th>196</th>\n",
       "      <th>197</th>\n",
       "      <th>198</th>\n",
       "      <th>199</th>\n",
       "    </tr>\n",
       "  </thead>\n",
       "  <tbody>\n",
       "    <tr>\n",
       "      <th>cov1</th>\n",
       "      <td>10.588393</td>\n",
       "      <td>10.095498</td>\n",
       "      <td>10.221286</td>\n",
       "      <td>10.884562</td>\n",
       "      <td>10.707055</td>\n",
       "      <td>10.800508</td>\n",
       "      <td>10.112467</td>\n",
       "      <td>10.719355</td>\n",
       "      <td>10.088543</td>\n",
       "      <td>10.726843</td>\n",
       "      <td>...</td>\n",
       "      <td>10.704347</td>\n",
       "      <td>10.672829</td>\n",
       "      <td>10.503478</td>\n",
       "      <td>10.189143</td>\n",
       "      <td>10.648285</td>\n",
       "      <td>10.232699</td>\n",
       "      <td>10.301163</td>\n",
       "      <td>10.147399</td>\n",
       "      <td>10.489219</td>\n",
       "      <td>10.002984</td>\n",
       "    </tr>\n",
       "    <tr>\n",
       "      <th>cov2</th>\n",
       "      <td>5.765045</td>\n",
       "      <td>5.273806</td>\n",
       "      <td>5.135972</td>\n",
       "      <td>5.459708</td>\n",
       "      <td>5.306728</td>\n",
       "      <td>5.018221</td>\n",
       "      <td>5.612618</td>\n",
       "      <td>5.841985</td>\n",
       "      <td>5.369478</td>\n",
       "      <td>5.973922</td>\n",
       "      <td>...</td>\n",
       "      <td>5.657331</td>\n",
       "      <td>5.682860</td>\n",
       "      <td>5.433637</td>\n",
       "      <td>5.833525</td>\n",
       "      <td>5.176895</td>\n",
       "      <td>5.421292</td>\n",
       "      <td>5.105423</td>\n",
       "      <td>5.309993</td>\n",
       "      <td>5.223231</td>\n",
       "      <td>5.677387</td>\n",
       "    </tr>\n",
       "    <tr>\n",
       "      <th>f1</th>\n",
       "      <td>8.883864</td>\n",
       "      <td>8.497210</td>\n",
       "      <td>8.175174</td>\n",
       "      <td>8.421732</td>\n",
       "      <td>8.714487</td>\n",
       "      <td>8.184064</td>\n",
       "      <td>8.335138</td>\n",
       "      <td>8.664684</td>\n",
       "      <td>8.435034</td>\n",
       "      <td>8.459008</td>\n",
       "      <td>...</td>\n",
       "      <td>8.065560</td>\n",
       "      <td>8.876795</td>\n",
       "      <td>8.733571</td>\n",
       "      <td>8.433563</td>\n",
       "      <td>8.591199</td>\n",
       "      <td>8.663537</td>\n",
       "      <td>8.065279</td>\n",
       "      <td>8.903022</td>\n",
       "      <td>8.770211</td>\n",
       "      <td>8.379541</td>\n",
       "    </tr>\n",
       "    <tr>\n",
       "      <th>f2</th>\n",
       "      <td>0.791934</td>\n",
       "      <td>0.881411</td>\n",
       "      <td>0.177713</td>\n",
       "      <td>0.052869</td>\n",
       "      <td>0.128239</td>\n",
       "      <td>0.895987</td>\n",
       "      <td>0.439923</td>\n",
       "      <td>0.214349</td>\n",
       "      <td>0.408121</td>\n",
       "      <td>0.632905</td>\n",
       "      <td>...</td>\n",
       "      <td>0.622428</td>\n",
       "      <td>0.561536</td>\n",
       "      <td>0.537349</td>\n",
       "      <td>0.539336</td>\n",
       "      <td>0.235551</td>\n",
       "      <td>0.063639</td>\n",
       "      <td>0.718726</td>\n",
       "      <td>0.981846</td>\n",
       "      <td>0.443421</td>\n",
       "      <td>0.484544</td>\n",
       "    </tr>\n",
       "    <tr>\n",
       "      <th>out1</th>\n",
       "      <td>5.031413</td>\n",
       "      <td>5.737039</td>\n",
       "      <td>5.387061</td>\n",
       "      <td>5.031891</td>\n",
       "      <td>5.337904</td>\n",
       "      <td>5.440905</td>\n",
       "      <td>5.487158</td>\n",
       "      <td>5.022289</td>\n",
       "      <td>5.951515</td>\n",
       "      <td>5.053601</td>\n",
       "      <td>...</td>\n",
       "      <td>5.593622</td>\n",
       "      <td>5.543374</td>\n",
       "      <td>5.919313</td>\n",
       "      <td>5.786725</td>\n",
       "      <td>5.308579</td>\n",
       "      <td>5.399351</td>\n",
       "      <td>5.073307</td>\n",
       "      <td>5.365244</td>\n",
       "      <td>5.872374</td>\n",
       "      <td>5.967933</td>\n",
       "    </tr>\n",
       "  </tbody>\n",
       "</table>\n",
       "<p>5 rows × 200 columns</p>\n",
       "</div>"
      ],
      "text/plain": [
       "            0          1          2          3          4          5    \\\n",
       "cov1  10.588393  10.095498  10.221286  10.884562  10.707055  10.800508   \n",
       "cov2   5.765045   5.273806   5.135972   5.459708   5.306728   5.018221   \n",
       "f1     8.883864   8.497210   8.175174   8.421732   8.714487   8.184064   \n",
       "f2     0.791934   0.881411   0.177713   0.052869   0.128239   0.895987   \n",
       "out1   5.031413   5.737039   5.387061   5.031891   5.337904   5.440905   \n",
       "\n",
       "            6          7          8          9      ...            190  \\\n",
       "cov1  10.112467  10.719355  10.088543  10.726843    ...      10.704347   \n",
       "cov2   5.612618   5.841985   5.369478   5.973922    ...       5.657331   \n",
       "f1     8.335138   8.664684   8.435034   8.459008    ...       8.065560   \n",
       "f2     0.439923   0.214349   0.408121   0.632905    ...       0.622428   \n",
       "out1   5.487158   5.022289   5.951515   5.053601    ...       5.593622   \n",
       "\n",
       "            191        192        193        194        195        196  \\\n",
       "cov1  10.672829  10.503478  10.189143  10.648285  10.232699  10.301163   \n",
       "cov2   5.682860   5.433637   5.833525   5.176895   5.421292   5.105423   \n",
       "f1     8.876795   8.733571   8.433563   8.591199   8.663537   8.065279   \n",
       "f2     0.561536   0.537349   0.539336   0.235551   0.063639   0.718726   \n",
       "out1   5.543374   5.919313   5.786725   5.308579   5.399351   5.073307   \n",
       "\n",
       "            197        198        199  \n",
       "cov1  10.147399  10.489219  10.002984  \n",
       "cov2   5.309993   5.223231   5.677387  \n",
       "f1     8.903022   8.770211   8.379541  \n",
       "f2     0.981846   0.443421   0.484544  \n",
       "out1   5.365244   5.872374   5.967933  \n",
       "\n",
       "[5 rows x 200 columns]"
      ]
     },
     "execution_count": 67,
     "metadata": {},
     "output_type": "execute_result"
    }
   ],
   "source": [
    "x.T.head()"
   ]
  },
  {
   "cell_type": "code",
   "execution_count": 83,
   "metadata": {
    "collapsed": false,
    "scrolled": true
   },
   "outputs": [],
   "source": [
    "#3.1 Hierarchical cluster with R type\n",
    "z=hc.linkage(x.T,method=\"average\") #Perform hierarchical/agglomerative clustering with average method"
   ]
  },
  {
   "cell_type": "code",
   "execution_count": 84,
   "metadata": {
    "collapsed": false
   },
   "outputs": [
    {
     "data": {
      "image/png": "[encoded data removed]",
      "text/plain": [
       "<matplotlib.figure.Figure at 0x921c7b8>"
      ]
     },
     "metadata": {},
     "output_type": "display_data"
    }
   ],
   "source": [
    "dd=hc.dendrogram(z,orientation=\"right\",labels=list(x.columns)) #Plot the hierarchical clustering as a dendrogram.\n",
    "plt.show()"
   ]
  },
  {
   "cell_type": "code",
   "execution_count": 136,
   "metadata": {
    "collapsed": false
   },
   "outputs": [],
   "source": [
    "#3.2 K-means cluster\n",
    "from sklearn.cluster import KMeans\n",
    "km=KMeans(n_clusters=3,n_jobs=4,max_iter=300)\n",
    "ykm=km.fit_predict(x)"
   ]
  },
  {
   "cell_type": "code",
   "execution_count": 137,
   "metadata": {
    "collapsed": false
   },
   "outputs": [
    {
     "name": "stdout",
     "output_type": "stream",
     "text": [
      "        cov1      cov2        f1        f2      out1  num_ctg\n",
      "0  10.228976  5.511173  8.609650  0.444046  5.712498       67\n",
      "1  10.484031  5.375691  8.356260  0.737914  5.302476       67\n",
      "2  10.702530  5.475819  8.466701  0.239375  5.483201       66\n"
     ]
    }
   ],
   "source": [
    "r1=pd.Series(km.labels_).value_counts()\n",
    "r2=pd.DataFrame(km.cluster_centers_)\n",
    "r=pd.concat([r2,r1],axis=1)\n",
    "r.columns=list(x.columns)+[u'num_ctg']\n",
    "print(r)"
   ]
  },
  {
   "cell_type": "code",
   "execution_count": 138,
   "metadata": {
    "collapsed": false
   },
   "outputs": [
    {
     "data": {
      "text/html": [
       "<div>\n",
       "<table border=\"1\" class=\"dataframe\">\n",
       "  <thead>\n",
       "    <tr style=\"text-align: right;\">\n",
       "      <th></th>\n",
       "      <th>cov1</th>\n",
       "      <th>cov2</th>\n",
       "      <th>f1</th>\n",
       "      <th>f2</th>\n",
       "      <th>out1</th>\n",
       "      <th>cluster_type</th>\n",
       "    </tr>\n",
       "  </thead>\n",
       "  <tbody>\n",
       "    <tr>\n",
       "      <th>0</th>\n",
       "      <td>10.588393</td>\n",
       "      <td>5.765045</td>\n",
       "      <td>8.883864</td>\n",
       "      <td>0.791934</td>\n",
       "      <td>5.031413</td>\n",
       "      <td>1</td>\n",
       "    </tr>\n",
       "    <tr>\n",
       "      <th>1</th>\n",
       "      <td>10.095498</td>\n",
       "      <td>5.273806</td>\n",
       "      <td>8.497210</td>\n",
       "      <td>0.881411</td>\n",
       "      <td>5.737039</td>\n",
       "      <td>0</td>\n",
       "    </tr>\n",
       "    <tr>\n",
       "      <th>2</th>\n",
       "      <td>10.221286</td>\n",
       "      <td>5.135972</td>\n",
       "      <td>8.175174</td>\n",
       "      <td>0.177713</td>\n",
       "      <td>5.387061</td>\n",
       "      <td>2</td>\n",
       "    </tr>\n",
       "    <tr>\n",
       "      <th>3</th>\n",
       "      <td>10.884562</td>\n",
       "      <td>5.459708</td>\n",
       "      <td>8.421732</td>\n",
       "      <td>0.052869</td>\n",
       "      <td>5.031891</td>\n",
       "      <td>2</td>\n",
       "    </tr>\n",
       "    <tr>\n",
       "      <th>4</th>\n",
       "      <td>10.707055</td>\n",
       "      <td>5.306728</td>\n",
       "      <td>8.714487</td>\n",
       "      <td>0.128239</td>\n",
       "      <td>5.337904</td>\n",
       "      <td>2</td>\n",
       "    </tr>\n",
       "  </tbody>\n",
       "</table>\n",
       "</div>"
      ],
      "text/plain": [
       "        cov1      cov2        f1        f2      out1  cluster_type\n",
       "0  10.588393  5.765045  8.883864  0.791934  5.031413             1\n",
       "1  10.095498  5.273806  8.497210  0.881411  5.737039             0\n",
       "2  10.221286  5.135972  8.175174  0.177713  5.387061             2\n",
       "3  10.884562  5.459708  8.421732  0.052869  5.031891             2\n",
       "4  10.707055  5.306728  8.714487  0.128239  5.337904             2"
      ]
     },
     "execution_count": 138,
     "metadata": {},
     "output_type": "execute_result"
    }
   ],
   "source": [
    "r=pd.concat([x,pd.Series(km.labels_,index=x.index)],axis=1)\n",
    "r.columns=list(x.columns)+[u\"cluster_type\"]\n",
    "r.head()"
   ]
  },
  {
   "cell_type": "code",
   "execution_count": 139,
   "metadata": {
    "collapsed": false
   },
   "outputs": [
    {
     "data": {
      "image/png": "[encoded data removed]",
      "text/plain": [
       "<matplotlib.figure.Figure at 0xc808b00>"
      ]
     },
     "metadata": {},
     "output_type": "display_data"
    }
   ],
   "source": [
    "from sklearn.manifold import TSNE\n",
    "tsne=TSNE()\n",
    "tsne.fit_transform(x)\n",
    "tsne=pd.DataFrame(tsne.embedding_,index=x.index)\n",
    "d=tsne[r[u\"cluster_type\"]==0]\n",
    "plt.plot(d[0],d[1],\"r.\")\n",
    "d=tsne[r[u\"cluster_type\"]==1]\n",
    "plt.plot(d[0],d[1],\"go\")\n",
    "d=tsne[r[u\"cluster_type\"]==2]\n",
    "plt.plot(d[0],d[1],\"b*\")\n",
    "plt.show()"
   ]
  },
  {
   "cell_type": "code",
   "execution_count": 153,
   "metadata": {
    "collapsed": true
   },
   "outputs": [
    {
     "data": {
      "text/html": [
       "<div>\n",
       "<table border=\"1\" class=\"dataframe\">\n",
       "  <thead>\n",
       "    <tr style=\"text-align: right;\">\n",
       "      <th></th>\n",
       "      <th>grp1</th>\n",
       "      <th>grp2</th>\n",
       "      <th>cov3</th>\n",
       "      <th>cov4</th>\n",
       "      <th>f3</th>\n",
       "      <th>f4</th>\n",
       "      <th>out2</th>\n",
       "    </tr>\n",
       "  </thead>\n",
       "  <tbody>\n",
       "    <tr>\n",
       "      <th>0</th>\n",
       "      <td>0</td>\n",
       "      <td>2</td>\n",
       "      <td>0</td>\n",
       "      <td>2</td>\n",
       "      <td>1</td>\n",
       "      <td>1</td>\n",
       "      <td>0</td>\n",
       "    </tr>\n",
       "    <tr>\n",
       "      <th>1</th>\n",
       "      <td>1</td>\n",
       "      <td>0</td>\n",
       "      <td>0</td>\n",
       "      <td>1</td>\n",
       "      <td>1</td>\n",
       "      <td>0</td>\n",
       "      <td>0</td>\n",
       "    </tr>\n",
       "    <tr>\n",
       "      <th>2</th>\n",
       "      <td>0</td>\n",
       "      <td>2</td>\n",
       "      <td>1</td>\n",
       "      <td>2</td>\n",
       "      <td>0</td>\n",
       "      <td>2</td>\n",
       "      <td>1</td>\n",
       "    </tr>\n",
       "    <tr>\n",
       "      <th>3</th>\n",
       "      <td>1</td>\n",
       "      <td>3</td>\n",
       "      <td>0</td>\n",
       "      <td>0</td>\n",
       "      <td>1</td>\n",
       "      <td>3</td>\n",
       "      <td>0</td>\n",
       "    </tr>\n",
       "    <tr>\n",
       "      <th>4</th>\n",
       "      <td>0</td>\n",
       "      <td>2</td>\n",
       "      <td>0</td>\n",
       "      <td>1</td>\n",
       "      <td>1</td>\n",
       "      <td>1</td>\n",
       "      <td>1</td>\n",
       "    </tr>\n",
       "  </tbody>\n",
       "</table>\n",
       "</div>"
      ],
      "text/plain": [
       "   grp1  grp2  cov3  cov4  f3  f4  out2\n",
       "0     0     2     0     2   1   1     0\n",
       "1     1     0     0     1   1   0     0\n",
       "2     0     2     1     2   0   2     1\n",
       "3     1     3     0     0   1   3     0\n",
       "4     0     2     0     1   1   1     1"
      ]
     },
     "execution_count": 153,
     "metadata": {},
     "output_type": "execute_result"
    }
   ],
   "source": [
    "#4 association rule analysis\n",
    "assx=dt[[\"grp1\",\"grp2\",\"cov3\",\"cov4\",\"f3\",\"f4\",\"out2\"]]\n",
    "assx.head()"
   ]
  },
  {
   "cell_type": "code",
   "execution_count": 154,
   "metadata": {
    "collapsed": true
   },
   "outputs": [
    {
     "ename": "ModuleNotFoundError",
     "evalue": "No module named 'fp_growth'",
     "output_type": "error",
     "traceback": [
      "\u001b[0;31m---------------------------------------------------------------------------\u001b[0m",
      "\u001b[0;31mModuleNotFoundError\u001b[0m                       Traceback (most recent call last)",
      "\u001b[0;32m<ipython-input-154-2d74e3126a7b>\u001b[0m in \u001b[0;36m<module>\u001b[0;34m()\u001b[0m\n\u001b[1;32m      1\u001b[0m \u001b[1;31m#4.1 FP-growth algorithms\u001b[0m\u001b[1;33m\u001b[0m\u001b[1;33m\u001b[0m\u001b[0m\n\u001b[0;32m----> 2\u001b[0;31m \u001b[1;32mfrom\u001b[0m \u001b[0mfp_growth\u001b[0m \u001b[1;32mimport\u001b[0m \u001b[0mfind_frequent_itemsets\u001b[0m \u001b[1;32mas\u001b[0m \u001b[0mfpg\u001b[0m\u001b[1;33m\u001b[0m\u001b[0m\n\u001b[0m\u001b[1;32m      3\u001b[0m \u001b[1;32mfor\u001b[0m \u001b[0mits\u001b[0m \u001b[1;32min\u001b[0m \u001b[0mfpg\u001b[0m\u001b[1;33m(\u001b[0m\u001b[0massx\u001b[0m\u001b[1;33m,\u001b[0m\u001b[0mminimum_support\u001b[0m\u001b[1;33m=\u001b[0m\u001b[0mint\u001b[0m\u001b[1;33m(\u001b[0m\u001b[0mlen\u001b[0m\u001b[1;33m(\u001b[0m\u001b[0massx\u001b[0m\u001b[1;33m)\u001b[0m\u001b[1;33m)\u001b[0m\u001b[1;33m*\u001b[0m\u001b[1;36m0.1\u001b[0m\u001b[1;33m)\u001b[0m\u001b[1;33m:\u001b[0m\u001b[1;33m\u001b[0m\u001b[0m\n\u001b[1;32m      4\u001b[0m     \u001b[1;32mif\u001b[0m \u001b[0mnan\u001b[0m \u001b[1;32min\u001b[0m \u001b[0mits\u001b[0m\u001b[1;33m:\u001b[0m\u001b[1;33m\u001b[0m\u001b[0m\n\u001b[1;32m      5\u001b[0m         \u001b[1;32mpass\u001b[0m\u001b[1;33m\u001b[0m\u001b[0m\n",
      "\u001b[0;31mModuleNotFoundError\u001b[0m: No module named 'fp_growth'"
     ]
    }
   ],
   "source": [
    "#4.1 FP-growth algorithms\n",
    "from fp_growth import find_frequent_itemsets as fpg\n",
    "for its in fpg(assx,minimum_support=int(len(assx))*0.1):\n",
    "    if nan in its:\n",
    "        pass\n",
    "    elif len(its)==1:\n",
    "        pass\n",
    "    else:\n",
    "        print(its[::-1])\n",
    "        "
   ]
  },
  {
   "cell_type": "code",
   "execution_count": null,
   "metadata": {
    "collapsed": true
   },
   "outputs": [],
   "source": []
  }
 ],
 "metadata": {
  "kernelspec": {
   "display_name": "Python 3",
   "language": "python",
   "name": "python3"
  },
  "language_info": {
   "codemirror_mode": {
    "name": "ipython",
    "version": 3
   },
   "file_extension": ".py",
   "mimetype": "text/x-python",
   "name": "python",
   "nbconvert_exporter": "python",
   "pygments_lexer": "ipython3",
   "version": "3.6.0"
  }
 },
 "nbformat": 4,
 "nbformat_minor": 2
}
