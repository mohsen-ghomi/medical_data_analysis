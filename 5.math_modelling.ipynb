{
 "cells": [
  {
   "cell_type": "code",
   "execution_count": 1,
   "metadata": {
    "collapsed": false
   },
   "outputs": [],
   "source": [
    "import numpy as np\n",
    "import pandas as pd\n",
    "import matplotlib.pyplot as plt"
   ]
  },
  {
   "cell_type": "code",
   "execution_count": 2,
   "metadata": {
    "collapsed": false
   },
   "outputs": [
    {
     "data": {
      "text/html": [
       "<div>\n",
       "<table border=\"1\" class=\"dataframe\">\n",
       "  <thead>\n",
       "    <tr style=\"text-align: right;\">\n",
       "      <th></th>\n",
       "      <th>id</th>\n",
       "      <th>grp1</th>\n",
       "      <th>grp2</th>\n",
       "      <th>cov1</th>\n",
       "      <th>cov2</th>\n",
       "      <th>cov3</th>\n",
       "      <th>cov4</th>\n",
       "      <th>f1</th>\n",
       "      <th>f2</th>\n",
       "      <th>f3</th>\n",
       "      <th>f4</th>\n",
       "      <th>out1</th>\n",
       "      <th>out2</th>\n",
       "      <th>out3</th>\n",
       "      <th>out4</th>\n",
       "      <th>out4t</th>\n",
       "    </tr>\n",
       "  </thead>\n",
       "  <tbody>\n",
       "    <tr>\n",
       "      <th>0</th>\n",
       "      <td>1</td>\n",
       "      <td>0</td>\n",
       "      <td>2</td>\n",
       "      <td>10.588393</td>\n",
       "      <td>5.765045</td>\n",
       "      <td>0</td>\n",
       "      <td>2</td>\n",
       "      <td>8.883864</td>\n",
       "      <td>0.791934</td>\n",
       "      <td>1</td>\n",
       "      <td>1</td>\n",
       "      <td>5.031413</td>\n",
       "      <td>0</td>\n",
       "      <td>1</td>\n",
       "      <td>1</td>\n",
       "      <td>201</td>\n",
       "    </tr>\n",
       "    <tr>\n",
       "      <th>1</th>\n",
       "      <td>2</td>\n",
       "      <td>1</td>\n",
       "      <td>0</td>\n",
       "      <td>10.095498</td>\n",
       "      <td>5.273806</td>\n",
       "      <td>0</td>\n",
       "      <td>1</td>\n",
       "      <td>8.497210</td>\n",
       "      <td>0.881411</td>\n",
       "      <td>1</td>\n",
       "      <td>0</td>\n",
       "      <td>5.737039</td>\n",
       "      <td>0</td>\n",
       "      <td>2</td>\n",
       "      <td>1</td>\n",
       "      <td>125</td>\n",
       "    </tr>\n",
       "    <tr>\n",
       "      <th>2</th>\n",
       "      <td>3</td>\n",
       "      <td>0</td>\n",
       "      <td>2</td>\n",
       "      <td>10.221286</td>\n",
       "      <td>5.135972</td>\n",
       "      <td>1</td>\n",
       "      <td>2</td>\n",
       "      <td>8.175174</td>\n",
       "      <td>0.177713</td>\n",
       "      <td>0</td>\n",
       "      <td>2</td>\n",
       "      <td>5.387061</td>\n",
       "      <td>1</td>\n",
       "      <td>2</td>\n",
       "      <td>0</td>\n",
       "      <td>152</td>\n",
       "    </tr>\n",
       "    <tr>\n",
       "      <th>3</th>\n",
       "      <td>4</td>\n",
       "      <td>1</td>\n",
       "      <td>3</td>\n",
       "      <td>10.884562</td>\n",
       "      <td>5.459708</td>\n",
       "      <td>0</td>\n",
       "      <td>0</td>\n",
       "      <td>8.421732</td>\n",
       "      <td>0.052869</td>\n",
       "      <td>1</td>\n",
       "      <td>3</td>\n",
       "      <td>5.031891</td>\n",
       "      <td>0</td>\n",
       "      <td>2</td>\n",
       "      <td>1</td>\n",
       "      <td>148</td>\n",
       "    </tr>\n",
       "    <tr>\n",
       "      <th>4</th>\n",
       "      <td>5</td>\n",
       "      <td>0</td>\n",
       "      <td>2</td>\n",
       "      <td>10.707055</td>\n",
       "      <td>5.306728</td>\n",
       "      <td>0</td>\n",
       "      <td>1</td>\n",
       "      <td>8.714487</td>\n",
       "      <td>0.128239</td>\n",
       "      <td>1</td>\n",
       "      <td>1</td>\n",
       "      <td>5.337904</td>\n",
       "      <td>1</td>\n",
       "      <td>1</td>\n",
       "      <td>0</td>\n",
       "      <td>127</td>\n",
       "    </tr>\n",
       "  </tbody>\n",
       "</table>\n",
       "</div>"
      ],
      "text/plain": [
       "   id  grp1  grp2       cov1      cov2  cov3  cov4        f1        f2  f3  \\\n",
       "0   1     0     2  10.588393  5.765045     0     2  8.883864  0.791934   1   \n",
       "1   2     1     0  10.095498  5.273806     0     1  8.497210  0.881411   1   \n",
       "2   3     0     2  10.221286  5.135972     1     2  8.175174  0.177713   0   \n",
       "3   4     1     3  10.884562  5.459708     0     0  8.421732  0.052869   1   \n",
       "4   5     0     2  10.707055  5.306728     0     1  8.714487  0.128239   1   \n",
       "\n",
       "   f4      out1  out2  out3  out4  out4t  \n",
       "0   1  5.031413     0     1     1    201  \n",
       "1   0  5.737039     0     2     1    125  \n",
       "2   2  5.387061     1     2     0    152  \n",
       "3   3  5.031891     0     2     1    148  \n",
       "4   1  5.337904     1     1     0    127  "
      ]
     },
     "execution_count": 2,
     "metadata": {},
     "output_type": "execute_result"
    }
   ],
   "source": [
    "#0.load data\n",
    "dt=pd.read_csv(\"D:\\Data\\python\\data0.csv\") \n",
    "\n",
    "#show the top 5 rows of data\n",
    "dt.head() "
   ]
  },
  {
   "cell_type": "code",
   "execution_count": 3,
   "metadata": {
    "collapsed": false
   },
   "outputs": [],
   "source": [
    "#1.ROC curve\n",
    "from sklearn.metrics import roc_curve, auc\n",
    "from sklearn.metrics import roc_auc_score"
   ]
  },
  {
   "cell_type": "code",
   "execution_count": 4,
   "metadata": {
    "collapsed": false
   },
   "outputs": [
    {
     "data": {
      "image/png": "[encoded data removed]",
      "text/plain": [
       "<matplotlib.figure.Figure at 0xa3dff28>"
      ]
     },
     "metadata": {},
     "output_type": "display_data"
    }
   ],
   "source": [
    "y=dt[\"out2\"]\n",
    "x_score=dt[\"out1\"]\n",
    "fpr,tpr,thd=roc_curve(y,x_score)\n",
    "roc_auc=auc(fpr,tpr)\n",
    "\n",
    "plt.plot(fpr,tpr,lw=1,label=\"ROC curve area = %0.2f \"%(roc_auc))\n",
    "plt.plot([0,1],[0,1],linestyle=\"-.\",color=(0.6,0.6,0.6),label=\"random guessing\")\n",
    "plt.title(\"Receiver Operator Characteristic\")\n",
    "plt.xlabel(\"False positive rate\")\n",
    "plt.ylabel(\"True positive rate\")\n",
    "plt.legend(loc=\"upper left\")\n",
    "plt.show()"
   ]
  },
  {
   "cell_type": "code",
   "execution_count": 5,
   "metadata": {
    "collapsed": false
   },
   "outputs": [
    {
     "data": {
      "text/plain": [
       "0.51060791513667891"
      ]
     },
     "execution_count": 5,
     "metadata": {},
     "output_type": "execute_result"
    }
   ],
   "source": [
    "aucs=roc_auc_score(y,x_score)\n",
    "aucs"
   ]
  },
  {
   "cell_type": "code",
   "execution_count": 6,
   "metadata": {
    "collapsed": true
   },
   "outputs": [],
   "source": [
    "#2. Survival analysis"
   ]
  },
  {
   "cell_type": "code",
   "execution_count": 30,
   "metadata": {
    "collapsed": false
   },
   "outputs": [
    {
     "data": {
      "text/html": [
       "<div>\n",
       "<table border=\"1\" class=\"dataframe\">\n",
       "  <thead>\n",
       "    <tr style=\"text-align: right;\">\n",
       "      <th></th>\n",
       "      <th>f1</th>\n",
       "      <th>f2</th>\n",
       "      <th>cov1</th>\n",
       "      <th>cov2</th>\n",
       "      <th>cov3</th>\n",
       "      <th>out4</th>\n",
       "      <th>out4t</th>\n",
       "    </tr>\n",
       "  </thead>\n",
       "  <tbody>\n",
       "    <tr>\n",
       "      <th>0</th>\n",
       "      <td>8.883864</td>\n",
       "      <td>0.791934</td>\n",
       "      <td>10.588393</td>\n",
       "      <td>5.765045</td>\n",
       "      <td>0</td>\n",
       "      <td>1</td>\n",
       "      <td>201</td>\n",
       "    </tr>\n",
       "    <tr>\n",
       "      <th>1</th>\n",
       "      <td>8.497210</td>\n",
       "      <td>0.881411</td>\n",
       "      <td>10.095498</td>\n",
       "      <td>5.273806</td>\n",
       "      <td>0</td>\n",
       "      <td>1</td>\n",
       "      <td>125</td>\n",
       "    </tr>\n",
       "    <tr>\n",
       "      <th>2</th>\n",
       "      <td>8.175174</td>\n",
       "      <td>0.177713</td>\n",
       "      <td>10.221286</td>\n",
       "      <td>5.135972</td>\n",
       "      <td>1</td>\n",
       "      <td>0</td>\n",
       "      <td>152</td>\n",
       "    </tr>\n",
       "    <tr>\n",
       "      <th>3</th>\n",
       "      <td>8.421732</td>\n",
       "      <td>0.052869</td>\n",
       "      <td>10.884562</td>\n",
       "      <td>5.459708</td>\n",
       "      <td>0</td>\n",
       "      <td>1</td>\n",
       "      <td>148</td>\n",
       "    </tr>\n",
       "    <tr>\n",
       "      <th>4</th>\n",
       "      <td>8.714487</td>\n",
       "      <td>0.128239</td>\n",
       "      <td>10.707055</td>\n",
       "      <td>5.306728</td>\n",
       "      <td>0</td>\n",
       "      <td>0</td>\n",
       "      <td>127</td>\n",
       "    </tr>\n",
       "  </tbody>\n",
       "</table>\n",
       "</div>"
      ],
      "text/plain": [
       "         f1        f2       cov1      cov2  cov3  out4  out4t\n",
       "0  8.883864  0.791934  10.588393  5.765045     0     1    201\n",
       "1  8.497210  0.881411  10.095498  5.273806     0     1    125\n",
       "2  8.175174  0.177713  10.221286  5.135972     1     0    152\n",
       "3  8.421732  0.052869  10.884562  5.459708     0     1    148\n",
       "4  8.714487  0.128239  10.707055  5.306728     0     0    127"
      ]
     },
     "execution_count": 30,
     "metadata": {},
     "output_type": "execute_result"
    }
   ],
   "source": [
    "#2.1 Cox model\n",
    "x_sv=dt[[\"f1\",\"f2\",\"cov1\",\"cov2\",\"cov3\",\"out4\",\"out4t\"]]\n",
    "x_sv.head()"
   ]
  },
  {
   "cell_type": "code",
   "execution_count": 31,
   "metadata": {
    "collapsed": true
   },
   "outputs": [
    {
     "ename": "AttributeError",
     "evalue": "module 'statsmodels.api' has no attribute 'SurvfuncRight'",
     "output_type": "error",
     "traceback": [
      "\u001b[0;31m---------------------------------------------------------------------------\u001b[0m",
      "\u001b[0;31mAttributeError\u001b[0m                            Traceback (most recent call last)",
      "\u001b[0;32m<ipython-input-31-8bcd7c9adf3b>\u001b[0m in \u001b[0;36m<module>\u001b[0;34m()\u001b[0m\n\u001b[1;32m      1\u001b[0m \u001b[1;32mimport\u001b[0m \u001b[0mstatsmodels\u001b[0m\u001b[1;33m.\u001b[0m\u001b[0mapi\u001b[0m \u001b[1;32mas\u001b[0m \u001b[0msm\u001b[0m\u001b[1;33m\u001b[0m\u001b[0m\n\u001b[0;32m----> 2\u001b[0;31m \u001b[0msf\u001b[0m\u001b[1;33m=\u001b[0m\u001b[0msm\u001b[0m\u001b[1;33m.\u001b[0m\u001b[0mSurvfuncRight\u001b[0m\u001b[1;33m(\u001b[0m\u001b[0mx_sv\u001b[0m\u001b[1;33m[\u001b[0m\u001b[1;34m\"out4\"\u001b[0m\u001b[1;33m]\u001b[0m\u001b[1;33m,\u001b[0m\u001b[0mx_sv\u001b[0m\u001b[1;33m[\u001b[0m\u001b[1;34m\"out4t\"\u001b[0m\u001b[1;33m]\u001b[0m\u001b[1;33m)\u001b[0m\u001b[1;33m\u001b[0m\u001b[0m\n\u001b[0m\u001b[1;32m      3\u001b[0m \u001b[0msf\u001b[0m\u001b[1;33m.\u001b[0m\u001b[0msummary\u001b[0m\u001b[1;33m(\u001b[0m\u001b[1;33m)\u001b[0m\u001b[1;33m.\u001b[0m\u001b[0mhead\u001b[0m\u001b[1;33m(\u001b[0m\u001b[1;33m)\u001b[0m\u001b[1;33m\u001b[0m\u001b[0m\n",
      "\u001b[0;31mAttributeError\u001b[0m: module 'statsmodels.api' has no attribute 'SurvfuncRight'"
     ]
    }
   ],
   "source": [
    "import statsmodels.api as sm\n",
    "sf=sm.SurvfuncRight(x_sv[\"out4\"],x_sv[\"out4t\"])"
   ]
  },
  {
   "cell_type": "code",
   "execution_count": 32,
   "metadata": {
    "collapsed": true
   },
   "outputs": [],
   "source": [
    "#Cox model for survival analysis\n",
    "import statsmodels.api as sm\n",
    "import statsmodels.formula.api as smf"
   ]
  },
  {
   "cell_type": "code",
   "execution_count": 40,
   "metadata": {
    "collapsed": true
   },
   "outputs": [
    {
     "data": {
      "text/html": [
       "<table class=\"simpletable\">\n",
       "<tr>\n",
       "        <td>Model:</td>        <td>PH Reg</td> <td>Sample size:</td> <td>199</td>\n",
       "</tr>\n",
       "<tr>\n",
       "  <td>Dependent variable:</td>  <td>out4t</td> <td>Num. events:</td> <td>93</td> \n",
       "</tr>\n",
       "<tr>\n",
       "         <td>Ties:</td>         <td>Efron</td>       <td></td>        <td></td>  \n",
       "</tr>\n",
       "</table>\n",
       "<table class=\"simpletable\">\n",
       "<tr>\n",
       "    <td></td>   <th>log HR</th>  <th>log HR SE</th>   <th>HR</th>      <th>t</th>     <th>P>|t|</th> <th>[0.025</th> <th>0.975]</th>\n",
       "</tr>\n",
       "<tr>\n",
       "  <th>f1</th>   <td>0.0530</td>   <td>0.3782</td>   <td>1.0544</td> <td>0.1401</td>  <td>0.8886</td> <td>0.5024</td> <td>2.2130</td>\n",
       "</tr>\n",
       "<tr>\n",
       "  <th>f2</th>   <td>-0.0493</td>  <td>0.3768</td>   <td>0.9519</td> <td>-0.1309</td> <td>0.8958</td> <td>0.4548</td> <td>1.9922</td>\n",
       "</tr>\n",
       "<tr>\n",
       "  <th>cov1</th> <td>-0.3319</td>  <td>0.3615</td>   <td>0.7175</td> <td>-0.9182</td> <td>0.3585</td> <td>0.3533</td> <td>1.4574</td>\n",
       "</tr>\n",
       "<tr>\n",
       "  <th>cov2</th> <td>0.1915</td>   <td>0.3757</td>   <td>1.2111</td> <td>0.5098</td>  <td>0.6102</td> <td>0.5799</td> <td>2.5291</td>\n",
       "</tr>\n",
       "<tr>\n",
       "  <th>cov3</th> <td>-0.1206</td>  <td>0.2194</td>   <td>0.8864</td> <td>-0.5497</td> <td>0.5825</td> <td>0.5766</td> <td>1.3626</td>\n",
       "</tr>\n",
       "</table>"
      ],
      "text/plain": [
       "<class 'statsmodels.iolib.summary2.Summary'>\n",
       "\"\"\"\n",
       "                      Results: PHReg\n",
       "==========================================================\n",
       "Model:                   PH Reg      Sample size:      199\n",
       "Dependent variable:      out4t       Num. events:      93 \n",
       "Ties:                    Efron                            \n",
       "----------------------------------------------------------\n",
       "      log HR log HR SE   HR      t    P>|t|  [0.025 0.975]\n",
       "----------------------------------------------------------\n",
       "f1    0.0530    0.3782 1.0544  0.1401 0.8886 0.5024 2.2130\n",
       "f2   -0.0493    0.3768 0.9519 -0.1309 0.8958 0.4548 1.9922\n",
       "cov1 -0.3319    0.3615 0.7175 -0.9182 0.3585 0.3533 1.4574\n",
       "cov2  0.1915    0.3757 1.2111  0.5098 0.6102 0.5799 2.5291\n",
       "cov3 -0.1206    0.2194 0.8864 -0.5497 0.5825 0.5766 1.3626\n",
       "==========================================================\n",
       "Confidence intervals are for the hazard ratios\n",
       "\"\"\""
      ]
     },
     "execution_count": 40,
     "metadata": {},
     "output_type": "execute_result"
    }
   ],
   "source": [
    "mod = smf.phreg(\"out4t ~ 0 + f1 + f2 + cov1 + cov2 + cov3\",x_sv, status=x_sv[\"out4\"], ties=\"efron\")\n",
    "rslt = mod.fit()\n",
    "rslt.summary()"
   ]
  },
  {
   "cell_type": "code",
   "execution_count": 41,
   "metadata": {
    "collapsed": true
   },
   "outputs": [],
   "source": [
    "#3. Time series analysis"
   ]
  },
  {
   "cell_type": "code",
   "execution_count": 42,
   "metadata": {
    "collapsed": false
   },
   "outputs": [
    {
     "data": {
      "text/html": [
       "<div>\n",
       "<table border=\"1\" class=\"dataframe\">\n",
       "  <thead>\n",
       "    <tr style=\"text-align: right;\">\n",
       "      <th></th>\n",
       "      <th>grp1</th>\n",
       "      <th>cov1</th>\n",
       "      <th>cov2</th>\n",
       "      <th>f1</th>\n",
       "      <th>f2</th>\n",
       "      <th>out4</th>\n",
       "      <th>out4t</th>\n",
       "    </tr>\n",
       "  </thead>\n",
       "  <tbody>\n",
       "    <tr>\n",
       "      <th>0</th>\n",
       "      <td>0</td>\n",
       "      <td>10.588393</td>\n",
       "      <td>5.765045</td>\n",
       "      <td>8.883864</td>\n",
       "      <td>0.791934</td>\n",
       "      <td>1</td>\n",
       "      <td>201</td>\n",
       "    </tr>\n",
       "    <tr>\n",
       "      <th>1</th>\n",
       "      <td>1</td>\n",
       "      <td>10.095498</td>\n",
       "      <td>5.273806</td>\n",
       "      <td>8.497210</td>\n",
       "      <td>0.881411</td>\n",
       "      <td>1</td>\n",
       "      <td>125</td>\n",
       "    </tr>\n",
       "    <tr>\n",
       "      <th>2</th>\n",
       "      <td>0</td>\n",
       "      <td>10.221286</td>\n",
       "      <td>5.135972</td>\n",
       "      <td>8.175174</td>\n",
       "      <td>0.177713</td>\n",
       "      <td>0</td>\n",
       "      <td>152</td>\n",
       "    </tr>\n",
       "    <tr>\n",
       "      <th>3</th>\n",
       "      <td>1</td>\n",
       "      <td>10.884562</td>\n",
       "      <td>5.459708</td>\n",
       "      <td>8.421732</td>\n",
       "      <td>0.052869</td>\n",
       "      <td>1</td>\n",
       "      <td>148</td>\n",
       "    </tr>\n",
       "    <tr>\n",
       "      <th>4</th>\n",
       "      <td>0</td>\n",
       "      <td>10.707055</td>\n",
       "      <td>5.306728</td>\n",
       "      <td>8.714487</td>\n",
       "      <td>0.128239</td>\n",
       "      <td>0</td>\n",
       "      <td>127</td>\n",
       "    </tr>\n",
       "  </tbody>\n",
       "</table>\n",
       "</div>"
      ],
      "text/plain": [
       "   grp1       cov1      cov2        f1        f2  out4  out4t\n",
       "0     0  10.588393  5.765045  8.883864  0.791934     1    201\n",
       "1     1  10.095498  5.273806  8.497210  0.881411     1    125\n",
       "2     0  10.221286  5.135972  8.175174  0.177713     0    152\n",
       "3     1  10.884562  5.459708  8.421732  0.052869     1    148\n",
       "4     0  10.707055  5.306728  8.714487  0.128239     0    127"
      ]
     },
     "execution_count": 42,
     "metadata": {},
     "output_type": "execute_result"
    }
   ],
   "source": [
    "x_tsa=dt[[\"grp1\",\"cov1\",\"cov2\",\"f1\",\"f2\",\"out4\",\"out4t\",]]\n",
    "x_tsa.head()"
   ]
  },
  {
   "cell_type": "code",
   "execution_count": 62,
   "metadata": {
    "collapsed": false
   },
   "outputs": [
    {
     "data": {
      "image/png": "[encoded data removed]",
      "text/plain": [
       "<matplotlib.figure.Figure at 0xcb001d0>"
      ]
     },
     "metadata": {},
     "output_type": "display_data"
    }
   ],
   "source": [
    "x_tsa[\"f1\"].diff(1).plot()\n",
    "plt.show()"
   ]
  },
  {
   "cell_type": "code",
   "execution_count": 61,
   "metadata": {
    "collapsed": false,
    "scrolled": true
   },
   "outputs": [
    {
     "data": {
      "text/html": [
       "<div>\n",
       "<table border=\"1\" class=\"dataframe\">\n",
       "  <thead>\n",
       "    <tr style=\"text-align: right;\">\n",
       "      <th></th>\n",
       "      <th>Acf</th>\n",
       "      <th>Pacf</th>\n",
       "    </tr>\n",
       "  </thead>\n",
       "  <tbody>\n",
       "    <tr>\n",
       "      <th>0</th>\n",
       "      <td>NaN</td>\n",
       "      <td>1.0</td>\n",
       "    </tr>\n",
       "    <tr>\n",
       "      <th>1</th>\n",
       "      <td>NaN</td>\n",
       "      <td>NaN</td>\n",
       "    </tr>\n",
       "    <tr>\n",
       "      <th>2</th>\n",
       "      <td>NaN</td>\n",
       "      <td>NaN</td>\n",
       "    </tr>\n",
       "    <tr>\n",
       "      <th>3</th>\n",
       "      <td>NaN</td>\n",
       "      <td>NaN</td>\n",
       "    </tr>\n",
       "    <tr>\n",
       "      <th>4</th>\n",
       "      <td>NaN</td>\n",
       "      <td>NaN</td>\n",
       "    </tr>\n",
       "  </tbody>\n",
       "</table>\n",
       "</div>"
      ],
      "text/plain": [
       "   Acf  Pacf\n",
       "0  NaN   1.0\n",
       "1  NaN   NaN\n",
       "2  NaN   NaN\n",
       "3  NaN   NaN\n",
       "4  NaN   NaN"
      ]
     },
     "execution_count": 61,
     "metadata": {},
     "output_type": "execute_result"
    }
   ],
   "source": [
    "from statsmodels.tsa.stattools import acf,pacf\n",
    "tsa_acf=pd.DataFrame(acf(x_tsa[\"f2\"].diff(2)),columns=[\"Acf\"])\n",
    "tsa_acf[\"Pacf\"]=pd.DataFrame(pacf(x_tsa[\"f2\"].diff(2)))\n",
    "tsa_acf.head()"
   ]
  },
  {
   "cell_type": "code",
   "execution_count": null,
   "metadata": {
    "collapsed": true
   },
   "outputs": [],
   "source": []
  }
 ],
 "metadata": {
  "kernelspec": {
   "display_name": "Python 3",
   "language": "python",
   "name": "python3"
  },
  "language_info": {
   "codemirror_mode": {
    "name": "ipython",
    "version": 3
   },
   "file_extension": ".py",
   "mimetype": "text/x-python",
   "name": "python",
   "nbconvert_exporter": "python",
   "pygments_lexer": "ipython3",
   "version": "3.6.0"
  }
 },
 "nbformat": 4,
 "nbformat_minor": 2
}
